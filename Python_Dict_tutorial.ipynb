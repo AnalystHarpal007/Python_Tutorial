{
  "nbformat": 4,
  "nbformat_minor": 0,
  "metadata": {
    "colab": {
      "provenance": [],
      "authorship_tag": "ABX9TyOpfGPUwPoclXdM1OXr5i/o",
      "include_colab_link": true
    },
    "kernelspec": {
      "name": "python3",
      "display_name": "Python 3"
    },
    "language_info": {
      "name": "python"
    }
  },
  "cells": [
    {
      "cell_type": "markdown",
      "metadata": {
        "id": "view-in-github",
        "colab_type": "text"
      },
      "source": [
        "<a href=\"https://colab.research.google.com/github/AnalystHarpal007/Python_Tutorial/blob/main/Python_Dict_tutorial.ipynb\" target=\"_parent\"><img src=\"https://colab.research.google.com/assets/colab-badge.svg\" alt=\"Open In Colab\"/></a>"
      ]
    },
    {
      "cell_type": "markdown",
      "source": [
        "# **Python Dict tutorial**\n",
        "\n",
        "A dictionary in Python is a built-in data structure used to store data in key-value pairs. It is mutable, meaning its contents can be modified after creation. Dictionaries are ideal for situations where you need to associate unique keys with specific values."
      ],
      "metadata": {
        "id": "5KK_1iz7I0qH"
      }
    },
    {
      "cell_type": "markdown",
      "source": [
        "# **Key Features**\n",
        "\n",
        "Ordered (since Python 3.7): Items maintain insertion order.\n",
        "\n",
        "Mutable: You can change, add, or remove items.\n",
        "\n",
        "No Duplicate Keys: Keys must be unique; duplicate keys overwrite previous values.\n",
        "\n",
        "Key-Value Pairs: Each item consists of a key and its associated value."
      ],
      "metadata": {
        "id": "sJ1xkJDIJEta"
      }
    },
    {
      "cell_type": "markdown",
      "source": [
        "**Syntax of a Dictionary**"
      ],
      "metadata": {
        "id": "_g00O_XhJPn0"
      }
    },
    {
      "cell_type": "code",
      "execution_count": 1,
      "metadata": {
        "colab": {
          "base_uri": "https://localhost:8080/"
        },
        "id": "r_Uf3PWGIrTG",
        "outputId": "a76913bb-a0e0-4fce-ec74-9ce80a6ef3d5"
      },
      "outputs": [
        {
          "output_type": "stream",
          "name": "stdout",
          "text": [
            "{'name': 'Alice', 'age': 25, 'city': 'New York'}\n"
          ]
        }
      ],
      "source": [
        "# Creating a dictionary\n",
        "my_dict = {\n",
        "    \"name\": \"Alice\",\n",
        "    \"age\": 25,\n",
        "    \"city\": \"New York\"\n",
        "}\n",
        "\n",
        "print(my_dict)\n"
      ]
    },
    {
      "cell_type": "markdown",
      "source": [
        "## **Creating Dictionaries**"
      ],
      "metadata": {
        "id": "XXpArbuaJcsf"
      }
    },
    {
      "cell_type": "markdown",
      "source": [
        "**1. Using {}**"
      ],
      "metadata": {
        "id": "OyO-2XPdJiKX"
      }
    },
    {
      "cell_type": "code",
      "source": [
        "dict1 = {\"name\": \"Alice\", \"age\": 25, \"city\": \"New York\"}\n",
        "\n",
        "print(dict1)\n"
      ],
      "metadata": {
        "colab": {
          "base_uri": "https://localhost:8080/"
        },
        "id": "wsHDaJkvJYHY",
        "outputId": "556edb84-d79c-4c97-dd5d-5d52c7824827"
      },
      "execution_count": 3,
      "outputs": [
        {
          "output_type": "stream",
          "name": "stdout",
          "text": [
            "{'name': 'Alice', 'age': 25, 'city': 'New York'}\n"
          ]
        }
      ]
    },
    {
      "cell_type": "markdown",
      "source": [
        "**2. Using dict() Constructor**"
      ],
      "metadata": {
        "id": "zhiZnOVPJmt1"
      }
    },
    {
      "cell_type": "code",
      "source": [
        "dict2 = dict(name=\"Bob\", age=30, city=\"London\")\n",
        "print(dict2)"
      ],
      "metadata": {
        "colab": {
          "base_uri": "https://localhost:8080/"
        },
        "id": "0ySmDfnjJkOp",
        "outputId": "3699e159-7096-42e3-f418-e13afb456eb7"
      },
      "execution_count": 4,
      "outputs": [
        {
          "output_type": "stream",
          "name": "stdout",
          "text": [
            "{'name': 'Bob', 'age': 30, 'city': 'London'}\n"
          ]
        }
      ]
    },
    {
      "cell_type": "markdown",
      "source": [
        "**3. Creating an Empty Dictionary**"
      ],
      "metadata": {
        "id": "rbhRVjRJJwjN"
      }
    },
    {
      "cell_type": "code",
      "source": [
        "empty_dict = {}\n",
        "print(empty_dict)"
      ],
      "metadata": {
        "colab": {
          "base_uri": "https://localhost:8080/"
        },
        "id": "sPzq2k5UJuEW",
        "outputId": "5d4cf322-3853-472b-f23f-10f0fd842e18"
      },
      "execution_count": 6,
      "outputs": [
        {
          "output_type": "stream",
          "name": "stdout",
          "text": [
            "{}\n"
          ]
        }
      ]
    },
    {
      "cell_type": "markdown",
      "source": [
        "**4. Using dict.fromkeys()**"
      ],
      "metadata": {
        "id": "KKvxixsGJ2qU"
      }
    },
    {
      "cell_type": "code",
      "source": [
        "keys = ['name', 'age', 'city']\n",
        "dict3 = dict.fromkeys(keys, \"Unknown\")  # Assigns \"Unknown\" as default value\n",
        "print(dict3)\n"
      ],
      "metadata": {
        "colab": {
          "base_uri": "https://localhost:8080/"
        },
        "id": "0y3juaoSJy83",
        "outputId": "58e91325-5887-4d5b-a205-698368b3586b"
      },
      "execution_count": 7,
      "outputs": [
        {
          "output_type": "stream",
          "name": "stdout",
          "text": [
            "{'name': 'Unknown', 'age': 'Unknown', 'city': 'Unknown'}\n"
          ]
        }
      ]
    },
    {
      "cell_type": "markdown",
      "source": [
        "# **Accessing Dictionary Elements**\n",
        "\n",
        "**1. Using Keys**"
      ],
      "metadata": {
        "id": "3RnEvhwfJ7uu"
      }
    },
    {
      "cell_type": "code",
      "source": [
        "person = {\"name\": \"Alice\", \"age\": 25, \"city\": \"New York\"}\n",
        "print(person[\"name\"])  # Output: Alice\n"
      ],
      "metadata": {
        "colab": {
          "base_uri": "https://localhost:8080/"
        },
        "id": "mG5LzIdFJ4kX",
        "outputId": "47047f7b-299e-43cc-e5c6-fccb834ee4cf"
      },
      "execution_count": 8,
      "outputs": [
        {
          "output_type": "stream",
          "name": "stdout",
          "text": [
            "Alice\n"
          ]
        }
      ]
    },
    {
      "cell_type": "markdown",
      "source": [
        "**2. Using .get() Method (Avoids Errors)**"
      ],
      "metadata": {
        "id": "P_xFgNT-KEQa"
      }
    },
    {
      "cell_type": "code",
      "source": [
        "print(person.get(\"gender\", \"Not Found\"))  # Output: Not Found\n"
      ],
      "metadata": {
        "colab": {
          "base_uri": "https://localhost:8080/"
        },
        "id": "vp-z41_GJ_wv",
        "outputId": "6ea8bd24-26a1-4142-dc26-4b490a1e2099"
      },
      "execution_count": 9,
      "outputs": [
        {
          "output_type": "stream",
          "name": "stdout",
          "text": [
            "Not Found\n"
          ]
        }
      ]
    },
    {
      "cell_type": "markdown",
      "source": [
        "# **Modifying a Dictionary**\n",
        "\n",
        "**1. Adding a New Key-Value Pair**"
      ],
      "metadata": {
        "id": "IubstsbAKJz_"
      }
    },
    {
      "cell_type": "code",
      "source": [
        "person[\"gender\"] = \"Female\"\n",
        "print(person)\n"
      ],
      "metadata": {
        "colab": {
          "base_uri": "https://localhost:8080/"
        },
        "id": "u23sLHZOKGLD",
        "outputId": "17a50051-c3be-4543-c17b-d0a07de12993"
      },
      "execution_count": 10,
      "outputs": [
        {
          "output_type": "stream",
          "name": "stdout",
          "text": [
            "{'name': 'Alice', 'age': 25, 'city': 'New York', 'gender': 'Female'}\n"
          ]
        }
      ]
    },
    {
      "cell_type": "markdown",
      "source": [
        "**2. Updating Existing Values**"
      ],
      "metadata": {
        "id": "GtjEbP00KQ3t"
      }
    },
    {
      "cell_type": "code",
      "source": [
        "person[\"age\"] = 26\n",
        "print(person)"
      ],
      "metadata": {
        "colab": {
          "base_uri": "https://localhost:8080/"
        },
        "id": "yq1moOrTKPCA",
        "outputId": "2ab48f38-fa8c-478e-f437-b6edb2ec120c"
      },
      "execution_count": 12,
      "outputs": [
        {
          "output_type": "stream",
          "name": "stdout",
          "text": [
            "{'name': 'Alice', 'age': 26, 'city': 'New York', 'gender': 'Female'}\n"
          ]
        }
      ]
    },
    {
      "cell_type": "markdown",
      "source": [
        "**3. Updating Multiple Values with .update()**"
      ],
      "metadata": {
        "id": "YhbxAw-MKbfd"
      }
    },
    {
      "cell_type": "code",
      "source": [
        "person.update({\"age\": 27, \"city\": \"Los Angeles\"})\n",
        "print(person)\n"
      ],
      "metadata": {
        "colab": {
          "base_uri": "https://localhost:8080/"
        },
        "id": "spebA2OdKSnX",
        "outputId": "f2634feb-1138-45ef-f505-7f31750d2a07"
      },
      "execution_count": 14,
      "outputs": [
        {
          "output_type": "stream",
          "name": "stdout",
          "text": [
            "{'name': 'Alice', 'age': 27, 'city': 'Los Angeles', 'gender': 'Female'}\n"
          ]
        }
      ]
    },
    {
      "cell_type": "markdown",
      "source": [
        "# **Removing Items from a Dictionary**\n",
        "\n",
        "**1. Using del**"
      ],
      "metadata": {
        "id": "sP0f3TseKiTf"
      }
    },
    {
      "cell_type": "code",
      "source": [
        "del person[\"age\"]\n"
      ],
      "metadata": {
        "id": "zlxCSOpzKdQs"
      },
      "execution_count": 15,
      "outputs": []
    },
    {
      "cell_type": "markdown",
      "source": [
        "**2. Using .pop()**"
      ],
      "metadata": {
        "id": "GUVz2BahKor0"
      }
    },
    {
      "cell_type": "code",
      "source": [
        "city = person.pop(\"city\")\n",
        "print(city)  # Output: New York\n"
      ],
      "metadata": {
        "colab": {
          "base_uri": "https://localhost:8080/"
        },
        "id": "MBd93z5NKmeF",
        "outputId": "15cf1fb4-b08e-4317-baa2-781e8695f660"
      },
      "execution_count": 16,
      "outputs": [
        {
          "output_type": "stream",
          "name": "stdout",
          "text": [
            "Los Angeles\n"
          ]
        }
      ]
    },
    {
      "cell_type": "markdown",
      "source": [
        "**3. Using .popitem() (Removes Last Inserted Item)**"
      ],
      "metadata": {
        "id": "QM-LVPecKts1"
      }
    },
    {
      "cell_type": "code",
      "source": [
        "person.popitem()"
      ],
      "metadata": {
        "colab": {
          "base_uri": "https://localhost:8080/",
          "height": 141
        },
        "id": "tQU5dQDoKrhp",
        "outputId": "b278ba60-728f-4823-c85b-9edeba17105e"
      },
      "execution_count": 21,
      "outputs": [
        {
          "output_type": "error",
          "ename": "KeyError",
          "evalue": "'popitem(): dictionary is empty'",
          "traceback": [
            "\u001b[0;31m---------------------------------------------------------------------------\u001b[0m",
            "\u001b[0;31mKeyError\u001b[0m                                  Traceback (most recent call last)",
            "\u001b[0;32m<ipython-input-21-2f99ea32c2b5>\u001b[0m in \u001b[0;36m<cell line: 0>\u001b[0;34m()\u001b[0m\n\u001b[0;32m----> 1\u001b[0;31m \u001b[0mperson\u001b[0m\u001b[0;34m.\u001b[0m\u001b[0mpopitem\u001b[0m\u001b[0;34m(\u001b[0m\u001b[0;34m)\u001b[0m\u001b[0;34m\u001b[0m\u001b[0;34m\u001b[0m\u001b[0m\n\u001b[0m",
            "\u001b[0;31mKeyError\u001b[0m: 'popitem(): dictionary is empty'"
          ]
        }
      ]
    },
    {
      "cell_type": "markdown",
      "source": [
        "**4. Using .clear() (Removes All Items)**"
      ],
      "metadata": {
        "id": "Bvm1RFCuKx-X"
      }
    },
    {
      "cell_type": "code",
      "source": [
        "person.clear()\n",
        "print(person)"
      ],
      "metadata": {
        "colab": {
          "base_uri": "https://localhost:8080/"
        },
        "id": "ecXJZvDYKvyZ",
        "outputId": "226018e9-67d0-4de6-d9e3-7f40c45ae50c"
      },
      "execution_count": 19,
      "outputs": [
        {
          "output_type": "stream",
          "name": "stdout",
          "text": [
            "{}\n"
          ]
        }
      ]
    },
    {
      "cell_type": "markdown",
      "source": [
        "# **Dictionary Comprehension**\n",
        "\n",
        "A compact way to create dictionaries."
      ],
      "metadata": {
        "id": "gXo-C-VKLTw5"
      }
    },
    {
      "cell_type": "code",
      "source": [
        "squares = {x: x*x for x in range(1, 6)}\n",
        "print(squares)\n"
      ],
      "metadata": {
        "colab": {
          "base_uri": "https://localhost:8080/"
        },
        "id": "gokTboYuK0EN",
        "outputId": "ad4d9966-f669-4eca-bfe8-ad7d130e3e50"
      },
      "execution_count": 22,
      "outputs": [
        {
          "output_type": "stream",
          "name": "stdout",
          "text": [
            "{1: 1, 2: 4, 3: 9, 4: 16, 5: 25}\n"
          ]
        }
      ]
    },
    {
      "cell_type": "markdown",
      "source": [
        "# **Nested Dictionaries**\n",
        "\n",
        "A dictionary within another dictionary."
      ],
      "metadata": {
        "id": "MjyTYlOQLZvf"
      }
    },
    {
      "cell_type": "code",
      "source": [
        "students = {\n",
        "    \"Alice\": {\"age\": 25, \"city\": \"New York\"},\n",
        "    \"Bob\": {\"age\": 22, \"city\": \"London\"}\n",
        "}\n",
        "\n",
        "print(students[\"Alice\"][\"age\"])  # Output: 25\n"
      ],
      "metadata": {
        "colab": {
          "base_uri": "https://localhost:8080/"
        },
        "id": "cWaqh9f4LXg9",
        "outputId": "854b0ffc-3489-47b9-ffa9-165de6b315f8"
      },
      "execution_count": 23,
      "outputs": [
        {
          "output_type": "stream",
          "name": "stdout",
          "text": [
            "25\n"
          ]
        }
      ]
    },
    {
      "cell_type": "markdown",
      "source": [
        "# **Real Interview Questions on Python Dictionaries**\n",
        "\n",
        "**Q1: How do you check if a key exists in a dictionary?**"
      ],
      "metadata": {
        "id": "r3LEZqWDLhC4"
      }
    },
    {
      "cell_type": "code",
      "source": [
        "my_dict = {\"name\": \"Alice\", \"age\": 25}\n",
        "\n",
        "# Method 1: Using `in`\n",
        "if \"name\" in my_dict:\n",
        "    print(\"Key exists\")\n",
        "\n",
        "# Method 2: Using `.get()`\n",
        "if my_dict.get(\"name\") is not None:\n",
        "    print(\"Key exists\")\n"
      ],
      "metadata": {
        "colab": {
          "base_uri": "https://localhost:8080/"
        },
        "id": "xT3scWhqLcjX",
        "outputId": "3de279e7-e1bb-4e36-d2db-9118c4c73937"
      },
      "execution_count": 24,
      "outputs": [
        {
          "output_type": "stream",
          "name": "stdout",
          "text": [
            "Key exists\n",
            "Key exists\n"
          ]
        }
      ]
    },
    {
      "cell_type": "markdown",
      "source": [
        "**Q2: What is the difference between .pop() and .popitem()?**"
      ],
      "metadata": {
        "id": "ZsviteOtLp2I"
      }
    },
    {
      "cell_type": "markdown",
      "source": [
        "Answer:\n",
        "\n",
        ".pop(key) removes the specified key.\n",
        "\n",
        ".popitem() removes the last inserted key-value pair (from Python 3.7+)."
      ],
      "metadata": {
        "id": "EQHP4HauLuD8"
      }
    },
    {
      "cell_type": "markdown",
      "source": [
        "**Q3: How do you merge two dictionaries?**"
      ],
      "metadata": {
        "id": "NtKXsYZyL0BQ"
      }
    },
    {
      "cell_type": "code",
      "source": [
        "dict1 = {\"a\": 1, \"b\": 2}\n",
        "dict2 = {\"c\": 3, \"d\": 4}\n",
        "\n",
        "# Method 1: Using `update()`\n",
        "dict1.update(dict2)\n",
        "\n",
        "# Method 2: Using `{**dict1, **dict2}`\n",
        "merged_dict = {**dict1, **dict2}\n"
      ],
      "metadata": {
        "id": "qo0XQI3ELnKf"
      },
      "execution_count": 25,
      "outputs": []
    },
    {
      "cell_type": "markdown",
      "source": [
        "**Q4: How do you sort a dictionary by its values?**"
      ],
      "metadata": {
        "id": "gE2sAwmZL76H"
      }
    },
    {
      "cell_type": "code",
      "source": [
        "my_dict = {\"a\": 3, \"b\": 1, \"c\": 2}\n",
        "sorted_dict = dict(sorted(my_dict.items(), key=lambda item: item[1]))\n",
        "print(sorted_dict)\n"
      ],
      "metadata": {
        "colab": {
          "base_uri": "https://localhost:8080/"
        },
        "id": "FYZRFh2NL14T",
        "outputId": "0419313b-c92f-4e46-8bcd-46bc35622f3b"
      },
      "execution_count": 26,
      "outputs": [
        {
          "output_type": "stream",
          "name": "stdout",
          "text": [
            "{'b': 1, 'c': 2, 'a': 3}\n"
          ]
        }
      ]
    },
    {
      "cell_type": "code",
      "source": [],
      "metadata": {
        "id": "raoGeQ-mMA-U"
      },
      "execution_count": null,
      "outputs": []
    }
  ]
}