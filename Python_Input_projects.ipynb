{
  "nbformat": 4,
  "nbformat_minor": 0,
  "metadata": {
    "colab": {
      "provenance": [],
      "include_colab_link": true
    },
    "kernelspec": {
      "name": "python3",
      "display_name": "Python 3"
    },
    "language_info": {
      "name": "python"
    }
  },
  "cells": [
    {
      "cell_type": "markdown",
      "metadata": {
        "id": "view-in-github",
        "colab_type": "text"
      },
      "source": [
        "<a href=\"https://colab.research.google.com/github/AnalystHarpal007/Python_Tutorial/blob/main/Python_Input_projects.ipynb\" target=\"_parent\"><img src=\"https://colab.research.google.com/assets/colab-badge.svg\" alt=\"Open In Colab\"/></a>"
      ]
    },
    {
      "cell_type": "markdown",
      "source": [
        "# **Real-World Examples of input() in Python**"
      ],
      "metadata": {
        "id": "N0PiloH5j_2U"
      }
    },
    {
      "cell_type": "markdown",
      "source": [
        "**1. User Login System (Basic Authentication)**\n",
        "\n",
        "🔹 This example takes a username and password as input and checks if they match predefined values."
      ],
      "metadata": {
        "id": "72JilV71kNQW"
      }
    },
    {
      "cell_type": "code",
      "source": [
        "username = input(\"Enter username: \")\n",
        "pwd = input(\"Enter password: \")\n",
        "\n",
        "print(\"Username: \", username)\n",
        "print(\"Password: \", pwd)\n",
        "\n"
      ],
      "metadata": {
        "colab": {
          "base_uri": "https://localhost:8080/"
        },
        "id": "U6mSE0OhkrR4",
        "outputId": "c460a095-a9e5-45f2-bafc-a5479669907f"
      },
      "execution_count": null,
      "outputs": [
        {
          "output_type": "stream",
          "name": "stdout",
          "text": [
            "Enter username: Harpal\n",
            "Enter password: Harpal@1234\n",
            "Username:  Harpal\n",
            "Password:  Harpal@1234\n"
          ]
        }
      ]
    },
    {
      "cell_type": "code",
      "source": [
        "\n",
        "import getpass\n",
        "username = getpass.getpass(\"Enter your username: \")\n",
        "print(\"Thank you your username has received!\")\n",
        "\n",
        "password = getpass.getpass(\"Enter your password: \")\n",
        "print(\"Thank you your Password has received!\")\n",
        "\n"
      ],
      "metadata": {
        "colab": {
          "base_uri": "https://localhost:8080/"
        },
        "id": "6Gc0F9k2lMvW",
        "outputId": "9b473f31-2a68-43af-c089-f276c8a63ba0"
      },
      "execution_count": null,
      "outputs": [
        {
          "output_type": "stream",
          "name": "stdout",
          "text": [
            "Enter your username: ··········\n",
            "Thank you your username has received!\n",
            "Enter your password: ··········\n",
            "Thank you your Password has received!\n"
          ]
        }
      ]
    },
    {
      "cell_type": "code",
      "execution_count": null,
      "metadata": {
        "colab": {
          "base_uri": "https://localhost:8080/"
        },
        "id": "UvpA_Oy7jyWQ",
        "outputId": "43165cd2-13e3-42bf-b41f-8de9be1c0474"
      },
      "outputs": [
        {
          "output_type": "stream",
          "name": "stdout",
          "text": [
            "Enter username: admin\n",
            "Enter password: ··········\n",
            "Login successful! 🎉\n"
          ]
        }
      ],
      "source": [
        "import getpass  # Hides password input\n",
        "\n",
        "# Predefined username and password\n",
        "correct_username = \"admin\"\n",
        "correct_password = \"12345\"\n",
        "\n",
        "# Taking user input\n",
        "username = input(\"Enter username: \")\n",
        "password = getpass.getpass(\"Enter password: \")\n",
        "\n",
        "# Checking credentials\n",
        "if username == correct_username and password == correct_password:\n",
        "    print(\"Login successful! 🎉\")\n",
        "else:\n",
        "    print(\"Invalid credentials. Please try again.\")\n"
      ]
    },
    {
      "cell_type": "markdown",
      "source": [
        "# **2. Online Shopping Cart – Taking Multiple Inputs**\n",
        "\n",
        "This example lets users enter item prices and calculates the total bill."
      ],
      "metadata": {
        "id": "_EeaPbtYmjEZ"
      }
    },
    {
      "cell_type": "code",
      "source": [
        "# Taking prices from the user\n",
        "price = list(map(float,input(\"enter item price seperated by commas:\").split(\",\")))\n",
        "\n",
        "# Calculating total\n",
        "total = sum(price)\n",
        "\n",
        "# Printing bill\n",
        "print(f\"Thank you for purchasing with us.\\nyour total Bill: £{total:.2f}\") #Display the price with 2 decimals:use .2f"
      ],
      "metadata": {
        "colab": {
          "base_uri": "https://localhost:8080/"
        },
        "id": "-j7eeHxlmio5",
        "outputId": "ca01f496-b62f-4d6b-ae83-88186f4ce703"
      },
      "execution_count": null,
      "outputs": [
        {
          "output_type": "stream",
          "name": "stdout",
          "text": [
            "enter item price seperated by commas:21,34,23,31.67\n",
            "Thank you for purchasing with us.\n",
            "your total Bill: £109.67\n"
          ]
        }
      ]
    },
    {
      "cell_type": "markdown",
      "source": [
        "# **3. Age Verification for Movie Tickets**\n",
        "\n",
        "🔹 This example checks if a user is old enough to watch an \"18+\" movie."
      ],
      "metadata": {
        "id": "wFG3MwlLo43y"
      }
    },
    {
      "cell_type": "code",
      "source": [
        "age = int(input(\"Enter your age: \"))\n",
        "\n",
        "if age>=18:\n",
        "  print(\"You can watch the movie\")\n",
        "\n",
        "else:\n",
        "  print(f\"You cannot watch the movie as you are {age} years old\\nOnly 18+ are allowed\")"
      ],
      "metadata": {
        "colab": {
          "base_uri": "https://localhost:8080/"
        },
        "id": "CbEiOkkrkGxR",
        "outputId": "651e1f5e-a157-41b3-8acc-feb8b4d99438"
      },
      "execution_count": null,
      "outputs": [
        {
          "output_type": "stream",
          "name": "stdout",
          "text": [
            "Enter your age: 16\n",
            "You cannot watch the movie as you are 16 years old\n",
            "Only 18+ are allowed\n"
          ]
        }
      ]
    },
    {
      "cell_type": "markdown",
      "source": [
        "# **4. Employee Salary Calculator**\n",
        "\n",
        "🔹 This example calculates an employee's monthly salary after deductions."
      ],
      "metadata": {
        "id": "9_DROs0Xp5kI"
      }
    },
    {
      "cell_type": "code",
      "source": [
        "name = input(\"Enter employee name: \")\n",
        "basic_salary = float(input(\"Enter your basic annual salary £: \"))\n",
        "tax_pct = float(input(\"Enter your tax %: \"))\n",
        "tax = basic_salary * (tax_pct/100)\n",
        "gross_salary = basic_salary - tax\n",
        "\n",
        "print(f\"Employee Name: {name}\")\n",
        "print(f\"Your Gross annual Salary after tax: £{gross_salary:.2f}\")"
      ],
      "metadata": {
        "colab": {
          "base_uri": "https://localhost:8080/"
        },
        "id": "4utoTt2npVoX",
        "outputId": "33331bba-0e95-438a-a655-437c962600b5"
      },
      "execution_count": null,
      "outputs": [
        {
          "output_type": "stream",
          "name": "stdout",
          "text": [
            "Enter employee name: Harpal Armo\n",
            "Enter your basic annual salary £: 55000\n",
            "Enter your tax %: 23\n",
            "Employee Name: Harpal Armo\n",
            "Your Gross annual Salary after tax: £42350.00\n"
          ]
        }
      ]
    },
    {
      "cell_type": "markdown",
      "source": [
        "# **5. Exam Marks Calculator**\n",
        "\n",
        "🔹 This example takes marks for three subjects and calculates the average.\n",
        "\n",
        "* Real-world use case: Used in school result portals or grading systems."
      ],
      "metadata": {
        "id": "Zpeoqz6OscoQ"
      }
    },
    {
      "cell_type": "code",
      "source": [
        "Student_name = input(\"Enter your name here: \")\n",
        "maths, science, english, biology = map(int,input(\"Enter your marks followed by space in maths science english and biology: \").split())\n",
        "\n",
        "average = (maths+science+english+biology)/4\n",
        "\n",
        "print(f\"Student Name: {Student_name}\")\n",
        "print(f\"Your average marks in four subjects: {average}%\")"
      ],
      "metadata": {
        "colab": {
          "base_uri": "https://localhost:8080/"
        },
        "id": "yDBp2v4osX1E",
        "outputId": "e0483725-7801-4138-d5b8-3326ee09b3b2"
      },
      "execution_count": null,
      "outputs": [
        {
          "output_type": "stream",
          "name": "stdout",
          "text": [
            "Enter your name here: Priyanka\n",
            "Enter your marks followed by space in maths science english and biology: 89 98 87 95\n",
            "Student Name: Priyanka\n",
            "Your average marks in four subjects: 92.25%\n"
          ]
        }
      ]
    },
    {
      "cell_type": "markdown",
      "source": [
        "**6. Food Order System**\n",
        "\n",
        "🔹 This example asks users to select food items and displays the order summary.\n",
        "\n",
        " * Real-world use case: Used in restaurants, food apps like Uber Eats, and self-order kiosks."
      ],
      "metadata": {
        "id": "814jP2ASujs0"
      }
    },
    {
      "cell_type": "code",
      "source": [
        "menu = {\n",
        "    \"1\": \"Burger - £5\",\n",
        "    \"2\": \"Pizza - £8\",\n",
        "    \"3\": \"Pasta - £7\",\n",
        "    \"4\": \"Coffee - £3\"\n",
        "}\n",
        "\n",
        "# Displaying menu\n",
        "print(\"Menu:\")\n",
        "for key, value in menu.items():\n",
        "   print(f\"{key}. {value}\")\n",
        "\n",
        "# Taking input from the user\n",
        "choice = input(\"Enter the item number you want to order: \")\n",
        "\n",
        "# Checking and displaying the selected item\n",
        "if choice in menu:\n",
        "    print(f\"You have ordered: {menu[choice]}\")\n",
        "else:\n",
        "    print(\"Invalid choice! Please enter a valid number.\")"
      ],
      "metadata": {
        "colab": {
          "base_uri": "https://localhost:8080/"
        },
        "id": "O3G_4BZItwr0",
        "outputId": "c9524e58-1f21-42ba-aa5a-d2b0e54b742a"
      },
      "execution_count": null,
      "outputs": [
        {
          "output_type": "stream",
          "name": "stdout",
          "text": [
            "Menu:\n",
            "1. Burger - £5\n",
            "2. Pizza - £8\n",
            "3. Pasta - £7\n",
            "4. Coffee - £3\n",
            "Enter the item number you want to order: 3\n",
            "You have ordered: Pasta - £7\n"
          ]
        }
      ]
    },
    {
      "cell_type": "markdown",
      "source": [
        "# **7. Bank Deposit & Interest Calculation**\n",
        "\n",
        "🔹 This example calculates the final balance after depositing money in a bank with interest.\n",
        "\n",
        "*  Real-world use case: Banking applications and investment calculators."
      ],
      "metadata": {
        "id": "QM7kbPqSvooW"
      }
    },
    {
      "cell_type": "code",
      "source": [
        "amount = float(input(\"Enter deposit amount: £ \"))\n",
        "interest_rate = 7  # 5% annual interest\n",
        "years = int(input(\"Enter number of years: \"))\n",
        "\n",
        "# Interest formula: Final amount = Principal * (1 + rate/100) ^ time\n",
        "final_amount = amount * (1 + interest_rate / 100) ** years\n",
        "\n",
        "if final_amount > 47000:\n",
        "  print(\"Congratulations\")\n",
        "else:\n",
        "  print(\"Need to Invest more for more interest\")\n",
        "print(f\"After {years} years, your balance will be: £{final_amount:.2f}\")\n"
      ],
      "metadata": {
        "colab": {
          "base_uri": "https://localhost:8080/"
        },
        "id": "r1At_XpvvPCH",
        "outputId": "fbe6bd74-217a-4ed3-99c3-974b09a956f6"
      },
      "execution_count": null,
      "outputs": [
        {
          "output_type": "stream",
          "name": "stdout",
          "text": [
            "Enter deposit amount: £ 1234\n",
            "Enter number of years: 10\n",
            "Need to Invest more for more interest\n",
            "After 10 years, your balance will be: £2427.46\n"
          ]
        }
      ]
    },
    {
      "cell_type": "code",
      "source": [
        "amount = float(input(\"Enter deposit amount: £ \"))\n",
        "interest_rate = 7  # 5% annual interest\n",
        "years = int(input(\"Enter number of years: \"))\n",
        "\n",
        "# Interest formula: Final amount = Principal * (1 + rate/100) ^ time\n",
        "final_amount = amount * (1 + interest_rate / 100) ** years\n",
        "\n",
        "if final_amount > 47000:\n",
        "  print(\"Congratulations\")\n",
        "else:\n",
        "  print(\"Need to Invest more for more interest\")\n",
        "print(f\"After {years} years, your balance will be: £{final_amount:.2f}\")\n"
      ],
      "metadata": {
        "colab": {
          "base_uri": "https://localhost:8080/"
        },
        "id": "QWsXKVc1wFdr",
        "outputId": "1d501a25-fcb9-46f3-cf83-8045755ce590"
      },
      "execution_count": null,
      "outputs": [
        {
          "output_type": "stream",
          "name": "stdout",
          "text": [
            "Enter deposit amount: £ 10000000000\n",
            "Enter number of years: 10\n",
            "Congratulations\n",
            "After 10 years, your balance will be: £19671513572.90\n"
          ]
        }
      ]
    },
    {
      "cell_type": "markdown",
      "source": [
        "**8. Fitness BMI Calculator**\n",
        "\n",
        "🔹 This example calculates a person's Body Mass Index (BMI) based on height and weight.\n",
        "\n",
        "* Real-world use case: Used in fitness apps, health checkups, and gym assessments."
      ],
      "metadata": {
        "id": "-6WdQWBmxQ3J"
      }
    },
    {
      "cell_type": "code",
      "source": [
        "weight = float(input(\"Enter your weight in kg: \"))\n",
        "height = float(input(\"Enter your height in meters: \"))\n",
        "\n",
        "bmi = weight / (height ** 2)\n",
        "\n",
        "print(f\"Your BMI is: {bmi:.2f}\")\n",
        "\n",
        "if bmi < 18.5:\n",
        "    print(\"Underweight\")\n",
        "elif 18.5 <= bmi < 24.9:\n",
        "    print(\"Normal weight\")\n",
        "elif 25 <= bmi < 29.9:\n",
        "    print(\"Overweight\")\n",
        "else:\n",
        "    print(\"Obese\")\n"
      ],
      "metadata": {
        "colab": {
          "base_uri": "https://localhost:8080/"
        },
        "id": "HMa8s9aOw5La",
        "outputId": "53e40629-1471-47ba-c952-3098a53597df"
      },
      "execution_count": null,
      "outputs": [
        {
          "output_type": "stream",
          "name": "stdout",
          "text": [
            "Enter your weight in kg: 67\n",
            "Enter your height in meters: 1.78\n",
            "Your BMI is: 21.15\n",
            "Normal weight\n"
          ]
        }
      ]
    },
    {
      "cell_type": "markdown",
      "source": [
        "# **9. Currency Converter**\n",
        "\n",
        "🔹 This example converts an amount from GBP (£) to USD ($)."
      ],
      "metadata": {
        "id": "d7orKCTQyAJ4"
      }
    },
    {
      "cell_type": "code",
      "source": [
        "gbp = float(input(\"Enter amount in GBP (£): \"))\n",
        "exchange_rate = 1.26  # Example: 1 GBP = 1.26 USD\n",
        "\n",
        "usd = gbp * exchange_rate\n",
        "print(f\"£{gbp} is equal to ${usd:.2f}\")\n"
      ],
      "metadata": {
        "colab": {
          "base_uri": "https://localhost:8080/"
        },
        "id": "LPRhaMFUxoWB",
        "outputId": "d67dcb4a-7f94-44be-9673-93b807ef4f3e"
      },
      "execution_count": null,
      "outputs": [
        {
          "output_type": "stream",
          "name": "stdout",
          "text": [
            "Enter amount in GBP (£): 100\n",
            "£100.0 is equal to $126.00\n"
          ]
        }
      ]
    },
    {
      "cell_type": "markdown",
      "source": [
        "# **10. Train Ticket Price Calculator**\n",
        "\n",
        "🔹 This example calculates the ticket price based on distance traveled."
      ],
      "metadata": {
        "id": "7pTDikloyIl-"
      }
    },
    {
      "cell_type": "code",
      "source": [
        "distance = float(input(\"Enter distance in km: \"))\n",
        "\n",
        "# Ticket price calculation\n",
        "if distance <= 5:\n",
        "    price = 2  # £2 for short distances\n",
        "elif distance <= 20:\n",
        "    price = 5  # £5 for medium distances\n",
        "else:\n",
        "    price = 10  # £10 for long distances\n",
        "\n",
        "print(f\"Train ticket price: £{price}\")\n"
      ],
      "metadata": {
        "colab": {
          "base_uri": "https://localhost:8080/"
        },
        "id": "25BXsKaayD7V",
        "outputId": "f172c841-7924-4820-9004-1adbf15f8954"
      },
      "execution_count": null,
      "outputs": [
        {
          "output_type": "stream",
          "name": "stdout",
          "text": [
            "Enter distance in km: 479\n",
            "Train ticket price: £10\n"
          ]
        }
      ]
    }
  ]
}