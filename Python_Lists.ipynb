{
  "nbformat": 4,
  "nbformat_minor": 0,
  "metadata": {
    "colab": {
      "provenance": [],
      "authorship_tag": "ABX9TyOvyfk/SsZNSM79yN5edzjT",
      "include_colab_link": true
    },
    "kernelspec": {
      "name": "python3",
      "display_name": "Python 3"
    },
    "language_info": {
      "name": "python"
    }
  },
  "cells": [
    {
      "cell_type": "markdown",
      "metadata": {
        "id": "view-in-github",
        "colab_type": "text"
      },
      "source": [
        "<a href=\"https://colab.research.google.com/github/AnalystHarpal007/Python_Tutorial/blob/main/Python_Lists.ipynb\" target=\"_parent\"><img src=\"https://colab.research.google.com/assets/colab-badge.svg\" alt=\"Open In Colab\"/></a>"
      ]
    },
    {
      "cell_type": "markdown",
      "source": [
        "# **Python Lists**\n",
        "\n",
        "* A list in Python is like a container that holds multiple values in an ordered sequence. You can store numbers, words, or even other lists inside it! Lists are mutable, meaning you can change their values after creating them.\n",
        "\n",
        "* Lists are one of 4 built-in data types in Python used to store collections of data, the other 3 are Tuple, Set, and Dictionary, all with different qualities and usage.\n",
        "\n",
        "* Lists are created using square brackets\n",
        "\n",
        "* List items are ordered, changeable, and allow duplicate values.\n",
        "\n",
        "* List items are indexed, the first item has index [0], the second item has index [1] etc."
      ],
      "metadata": {
        "id": "KtVcKvsiPCsD"
      }
    },
    {
      "cell_type": "markdown",
      "source": [
        "**1️⃣ Creating a List**\n",
        "\n",
        "A list is created using square brackets [ ] and can hold different data types."
      ],
      "metadata": {
        "id": "t2fjVK9DPQZY"
      }
    },
    {
      "cell_type": "code",
      "execution_count": null,
      "metadata": {
        "colab": {
          "base_uri": "https://localhost:8080/"
        },
        "id": "kz_IdKqDNOSn",
        "outputId": "3c113990-3585-4dfc-bf43-b34d1531b694"
      },
      "outputs": [
        {
          "output_type": "stream",
          "name": "stdout",
          "text": [
            "['Spider Man', 122, 3.55, True, 'Joker', 'Lucy', 'Titanic', 'Inception']\n"
          ]
        }
      ],
      "source": [
        "movies = ['Spider Man', 122, 3.55, True, 'Joker', 'Lucy', 'Titanic', 'Inception']\n",
        "\n",
        "print(movies)"
      ]
    },
    {
      "cell_type": "code",
      "source": [
        "# Len()\n",
        "#Print the number of items in the list:\n",
        "\n",
        "thislist = [\"apple\", \"banana\", \"cherry\"]\n",
        "print(len(thislist))"
      ],
      "metadata": {
        "colab": {
          "base_uri": "https://localhost:8080/"
        },
        "id": "WUViyvgSQoLd",
        "outputId": "5b167abf-d1f3-4fc6-f524-17c78f4eefb4"
      },
      "execution_count": null,
      "outputs": [
        {
          "output_type": "stream",
          "name": "stdout",
          "text": [
            "3\n"
          ]
        }
      ]
    },
    {
      "cell_type": "code",
      "source": [
        "#Using the list() constructor to make a List\n",
        "\n",
        "thislist = list((\"apple\", \"banana\", \"cherry\")) # note the double round-brackets\n",
        "print(thislist)"
      ],
      "metadata": {
        "colab": {
          "base_uri": "https://localhost:8080/"
        },
        "id": "1TB7GsdJQ6g8",
        "outputId": "a0fa621f-8437-4282-a7da-5888c7dae4f4"
      },
      "execution_count": null,
      "outputs": [
        {
          "output_type": "stream",
          "name": "stdout",
          "text": [
            "['apple', 'banana', 'cherry']\n"
          ]
        }
      ]
    },
    {
      "cell_type": "markdown",
      "source": [
        "**2️⃣ Accessing List Elements**\n",
        "\n",
        "You can access elements using their index (starting from 0)"
      ],
      "metadata": {
        "id": "2RACOPnJRa8O"
      }
    },
    {
      "cell_type": "code",
      "source": [
        "fruits = [\"Apple\", \"Banana\", \"Cherry\"]\n",
        "\n",
        "print(fruits[0])  # Output: Apple\n",
        "print(fruits[1])  # Output: Banana\n",
        "print(fruits[-1]) # Output: Cherry (negative index starts from the end)\n"
      ],
      "metadata": {
        "colab": {
          "base_uri": "https://localhost:8080/"
        },
        "id": "hrNL-wmIRAkm",
        "outputId": "b0c94dd8-9dc4-455c-fbad-bcbdb7e14500"
      },
      "execution_count": null,
      "outputs": [
        {
          "output_type": "stream",
          "name": "stdout",
          "text": [
            "Apple\n",
            "Banana\n",
            "Cherry\n"
          ]
        }
      ]
    },
    {
      "cell_type": "code",
      "source": [
        "movies = ['Spider Man', 122, 3.55, True, 'Joker', 'Lucy', 'Titanic', 'Inception']\n",
        "\n",
        "print(movies)"
      ],
      "metadata": {
        "colab": {
          "base_uri": "https://localhost:8080/"
        },
        "id": "GhGEgV6RSX_h",
        "outputId": "f54f116e-36b4-4378-cd03-094b756468e9"
      },
      "execution_count": null,
      "outputs": [
        {
          "output_type": "stream",
          "name": "stdout",
          "text": [
            "['Spider Man', 122, 3.55, True, 'Joker', 'Lucy', 'Titanic', 'Inception']\n"
          ]
        }
      ]
    },
    {
      "cell_type": "code",
      "source": [
        "movies[0:5]"
      ],
      "metadata": {
        "colab": {
          "base_uri": "https://localhost:8080/"
        },
        "id": "vIL3OA3PSeUO",
        "outputId": "eea880dc-4ff0-4666-b60f-8e5085586315"
      },
      "execution_count": null,
      "outputs": [
        {
          "output_type": "execute_result",
          "data": {
            "text/plain": [
              "['Spider Man', 122, 3.55, True, 'Joker']"
            ]
          },
          "metadata": {},
          "execution_count": 11
        }
      ]
    },
    {
      "cell_type": "code",
      "source": [
        "movies[3:]"
      ],
      "metadata": {
        "colab": {
          "base_uri": "https://localhost:8080/"
        },
        "id": "N1Ldjj2QSlvW",
        "outputId": "e0949802-53ba-447b-968f-e796e5850a6f"
      },
      "execution_count": null,
      "outputs": [
        {
          "output_type": "execute_result",
          "data": {
            "text/plain": [
              "[True, 'Joker', 'Lucy', 'Titanic', 'Inception']"
            ]
          },
          "metadata": {},
          "execution_count": 12
        }
      ]
    },
    {
      "cell_type": "markdown",
      "source": [
        "**3️⃣ Modifying Lists (Mutable Property)**\n",
        "\n",
        "You can change, add, or remove items from a list."
      ],
      "metadata": {
        "id": "DV3be07WR0YI"
      }
    },
    {
      "cell_type": "code",
      "source": [
        "fruits = [\"Apple\", \"Banana\", \"Cherry\"]\n",
        "\n",
        "# Changing an item\n",
        "fruits[1] = \"Mango\"\n",
        "print(fruits)  # Output: ['Apple', 'Mango', 'Cherry']\n",
        "\n",
        "# Adding an item\n",
        "fruits.append(\"Orange\")\n",
        "print(fruits)  # Output: ['Apple', 'Mango', 'Cherry', 'Orange']\n",
        "\n",
        "# Removing an item\n",
        "fruits.remove(\"Mango\")\n",
        "print(fruits)  # Output: ['Apple', 'Cherry', 'Orange']\n"
      ],
      "metadata": {
        "colab": {
          "base_uri": "https://localhost:8080/"
        },
        "id": "MeJNlT16RvbL",
        "outputId": "34df34b5-0e94-48fb-cc0c-92dc5493d92e"
      },
      "execution_count": null,
      "outputs": [
        {
          "output_type": "stream",
          "name": "stdout",
          "text": [
            "['Apple', 'Mango', 'Cherry']\n",
            "['Apple', 'Mango', 'Cherry', 'Orange']\n",
            "['Apple', 'Cherry', 'Orange']\n"
          ]
        }
      ]
    },
    {
      "cell_type": "code",
      "source": [
        "movies = ['Spider Man', 122, 3.55, True, 'Joker', 'Lucy', 'Titanic', 'Inception']\n",
        "\n",
        "print(movies)"
      ],
      "metadata": {
        "colab": {
          "base_uri": "https://localhost:8080/"
        },
        "id": "PvIropgPR9qr",
        "outputId": "bae20bac-4d76-4eb1-b4e1-b8906c67c18d"
      },
      "execution_count": null,
      "outputs": [
        {
          "output_type": "stream",
          "name": "stdout",
          "text": [
            "['Spider Man', 122, 3.55, True, 'Joker', 'Lucy', 'Titanic', 'Inception']\n"
          ]
        }
      ]
    },
    {
      "cell_type": "code",
      "source": [
        "movies.pop()\n",
        "print(movies)"
      ],
      "metadata": {
        "colab": {
          "base_uri": "https://localhost:8080/"
        },
        "id": "h1DRFTjYSKRx",
        "outputId": "2f5e94c9-df29-465b-856d-809624dfa575"
      },
      "execution_count": null,
      "outputs": [
        {
          "output_type": "stream",
          "name": "stdout",
          "text": [
            "['Spider Man', 122, 3.55]\n"
          ]
        }
      ]
    },
    {
      "cell_type": "code",
      "source": [
        "movies = ['Spider Man', 122, 3.55, True, 'Joker', 'Lucy', 'Titanic', 'Inception']\n",
        "\n",
        "print(movies)"
      ],
      "metadata": {
        "colab": {
          "base_uri": "https://localhost:8080/"
        },
        "id": "7z4IVSmITCYe",
        "outputId": "18046577-f7b7-42f8-fa85-52ae01339c01"
      },
      "execution_count": null,
      "outputs": [
        {
          "output_type": "stream",
          "name": "stdout",
          "text": [
            "['Spider Man', 122, 3.55, True, 'Joker', 'Lucy', 'Titanic', 'Inception']\n"
          ]
        }
      ]
    },
    {
      "cell_type": "code",
      "source": [
        "my_fav_no = [ 2, 5, 7, 1, 6 , 0]\n",
        "my_fav_no.sort()\n",
        "print(my_fav_no)\n",
        "\n"
      ],
      "metadata": {
        "colab": {
          "base_uri": "https://localhost:8080/"
        },
        "id": "X_Zqp9GBTGfL",
        "outputId": "d16fcc0e-3431-443e-d3d9-e457c38f65f8"
      },
      "execution_count": null,
      "outputs": [
        {
          "output_type": "stream",
          "name": "stdout",
          "text": [
            "[0, 1, 2, 5, 6, 7]\n"
          ]
        }
      ]
    },
    {
      "cell_type": "code",
      "source": [
        "my_fav_no = [ 2, 5, 7, 1, 6 , 0]\n",
        "my_fav_no.sort(reverse=True)\n",
        "print(my_fav_no)\n",
        "\n"
      ],
      "metadata": {
        "colab": {
          "base_uri": "https://localhost:8080/"
        },
        "id": "dJAEVCT2TePb",
        "outputId": "49d52ce7-2dee-402d-ad22-617b35e735a9"
      },
      "execution_count": null,
      "outputs": [
        {
          "output_type": "stream",
          "name": "stdout",
          "text": [
            "[7, 6, 5, 2, 1, 0]\n"
          ]
        }
      ]
    },
    {
      "cell_type": "markdown",
      "source": [
        "**4️⃣ Useful List Methods**\n",
        "\n",
        "Python provides several built-in methods to work with lists:"
      ],
      "metadata": {
        "id": "mPtrHhG8UVvy"
      }
    },
    {
      "cell_type": "code",
      "source": [
        "numbers = [5, 3, 8, 1, 2]\n",
        "\n",
        "numbers.sort()   # Sorts in ascending order\n",
        "print(numbers)   # Output: [1, 2, 3, 5, 8]\n",
        "\n",
        "numbers.reverse() # Reverses the list\n",
        "print(numbers)   # Output: [8, 5, 3, 2, 1]\n",
        "\n",
        "print(len(numbers))  # Output: 5 (number of elements)\n",
        "\n",
        "numbers.insert(2, 100)  # Insert 100 at index 2\n",
        "print(numbers)   # Output: [8, 5, 100, 3, 2, 1]\n",
        "\n",
        "numbers.pop()    # Removes the last item\n",
        "print(numbers)   # Output: [8, 5, 100, 3, 2]\n"
      ],
      "metadata": {
        "colab": {
          "base_uri": "https://localhost:8080/"
        },
        "id": "iO9nUivtUHtR",
        "outputId": "2e9190f8-46e5-458d-aa0d-03d51b95cfae"
      },
      "execution_count": null,
      "outputs": [
        {
          "output_type": "stream",
          "name": "stdout",
          "text": [
            "[1, 2, 3, 5, 8]\n",
            "[8, 5, 3, 2, 1]\n",
            "5\n",
            "[8, 5, 100, 3, 2, 1]\n",
            "[8, 5, 100, 3, 2]\n"
          ]
        }
      ]
    },
    {
      "cell_type": "code",
      "source": [
        "#The del keyword also removes the specified index:\n",
        "thislist = [\"apple\", \"banana\", \"cherry\"]\n",
        "del thislist[0]\n",
        "print(thislist)"
      ],
      "metadata": {
        "colab": {
          "base_uri": "https://localhost:8080/"
        },
        "id": "j12RpvRcXPvi",
        "outputId": "052074bc-1423-4f9d-9e81-682d1ea0ec93"
      },
      "execution_count": null,
      "outputs": [
        {
          "output_type": "stream",
          "name": "stdout",
          "text": [
            "['banana', 'cherry']\n"
          ]
        }
      ]
    },
    {
      "cell_type": "markdown",
      "source": [
        "**Extend List**\n",
        "\n",
        "To append elements from another list to the current list, use the extend() method."
      ],
      "metadata": {
        "id": "n29nYK36Wcuk"
      }
    },
    {
      "cell_type": "code",
      "source": [
        "city = [\"bhopal\", \"indore\", \"chennai\"]\n",
        "fruits = [\"mango\", \"pineapple\", \"papaya\"]\n",
        "city.extend(fruits)\n",
        "print(city)"
      ],
      "metadata": {
        "colab": {
          "base_uri": "https://localhost:8080/"
        },
        "id": "dZQ4I_7fWf6x",
        "outputId": "32d93efc-659a-491b-c3c6-e78db83a7656"
      },
      "execution_count": null,
      "outputs": [
        {
          "output_type": "stream",
          "name": "stdout",
          "text": [
            "['bhopal', 'indore', 'chennai', 'mango', 'pineapple', 'papaya']\n"
          ]
        }
      ]
    },
    {
      "cell_type": "markdown",
      "source": [
        "**Add Any Iterable**\n",
        "\n",
        "The extend() method does not have to append lists, you can add any iterable object (tuples, sets, dictionaries etc.)."
      ],
      "metadata": {
        "id": "T_WMV7iyW1Bt"
      }
    },
    {
      "cell_type": "code",
      "source": [
        "thislist = [\"apple\", \"banana\", \"cherry\"]\n",
        "thistuple = (\"kiwi\", \"orange\")\n",
        "thislist.extend(thistuple)\n",
        "print(thislist)"
      ],
      "metadata": {
        "colab": {
          "base_uri": "https://localhost:8080/"
        },
        "id": "Mptj2Bp1W4bA",
        "outputId": "ba02d7de-935b-4074-db48-5066383cd36d"
      },
      "execution_count": null,
      "outputs": [
        {
          "output_type": "stream",
          "name": "stdout",
          "text": [
            "['apple', 'banana', 'cherry', 'kiwi', 'orange']\n"
          ]
        }
      ]
    },
    {
      "cell_type": "markdown",
      "source": [
        "**5️⃣ Looping Through Lists**\n",
        "\n",
        "You can iterate through a list using loops."
      ],
      "metadata": {
        "id": "7B27DuOOUuE7"
      }
    },
    {
      "cell_type": "code",
      "source": [
        "fruits = [\"Apple\", \"Banana\", \"Cherry\"]\n",
        "\n",
        "for fruit in fruits:\n",
        "    print(fruit)\n"
      ],
      "metadata": {
        "colab": {
          "base_uri": "https://localhost:8080/"
        },
        "id": "ZIBP4Yz-Uc-A",
        "outputId": "a09a4764-c49f-4d03-fd84-fefa7f58c237"
      },
      "execution_count": null,
      "outputs": [
        {
          "output_type": "stream",
          "name": "stdout",
          "text": [
            "Apple\n",
            "Banana\n",
            "Cherry\n"
          ]
        }
      ]
    },
    {
      "cell_type": "markdown",
      "source": [
        "**Loop Through a List**\n",
        "\n",
        "You can loop through the list items by using a for loop:"
      ],
      "metadata": {
        "id": "qVh-6JjEYB1_"
      }
    },
    {
      "cell_type": "code",
      "source": [
        "thislist = [\"apple\", \"banana\", \"cherry\",\"Mango\"]\n",
        "for x in thislist:\n",
        "  print(x)"
      ],
      "metadata": {
        "colab": {
          "base_uri": "https://localhost:8080/"
        },
        "id": "xEyYldeDYH48",
        "outputId": "cc4a6381-a70a-4d17-d8e0-bea02a4af7e6"
      },
      "execution_count": null,
      "outputs": [
        {
          "output_type": "stream",
          "name": "stdout",
          "text": [
            "apple\n",
            "banana\n",
            "cherry\n",
            "Mango\n"
          ]
        }
      ]
    },
    {
      "cell_type": "code",
      "source": [
        "#You can also loop through the list items by referring to their index number.\n",
        "#Use the range() and len() functions to create a suitable iterable.\n",
        "thislist = [\"apple\", \"banana\", \"cherry\"]\n",
        "for i in range(len(thislist)):\n",
        "  print(thislist[i])"
      ],
      "metadata": {
        "colab": {
          "base_uri": "https://localhost:8080/"
        },
        "id": "vqbGX4uDYXj1",
        "outputId": "0047e873-9521-4a29-8fe4-aaadff848f44"
      },
      "execution_count": null,
      "outputs": [
        {
          "output_type": "stream",
          "name": "stdout",
          "text": [
            "apple\n",
            "banana\n",
            "cherry\n"
          ]
        }
      ]
    },
    {
      "cell_type": "markdown",
      "source": [
        "**List Comprehension**\n",
        "\n",
        "List comprehension offers a shorter syntax when you want to create a new list based on the values of an existing list.\n",
        "\n",
        "Example:\n",
        "\n",
        "Based on a list of fruits, you want a new list, containing only the fruits with the letter \"a\" in the name.\n",
        "\n",
        "Without list comprehension you will have to write a for statement with a conditional test inside:"
      ],
      "metadata": {
        "id": "59Qy7tvoY2ja"
      }
    },
    {
      "cell_type": "code",
      "source": [
        "fruits = [\"apple\", \"banana\", \"guava\", \"cherry\", \"kiwi\", \"mango\"]\n",
        "newlist = []\n",
        "\n",
        "for x in fruits:\n",
        "  if \"a\" in x:\n",
        "    newlist.append(x)\n",
        "\n",
        "print(newlist)"
      ],
      "metadata": {
        "colab": {
          "base_uri": "https://localhost:8080/"
        },
        "id": "P_xL5SFQY5r_",
        "outputId": "20309471-2f4e-40a4-f22f-7638b4985915"
      },
      "execution_count": null,
      "outputs": [
        {
          "output_type": "stream",
          "name": "stdout",
          "text": [
            "['apple', 'banana', 'guava', 'mango']\n"
          ]
        }
      ]
    },
    {
      "cell_type": "code",
      "source": [
        "\n",
        "fruits = [\"apple\", \"banana\", \"guava\", \"cherry\", \"kiwi\", \"mango\"]\n",
        "newlist = []\n",
        "\n",
        "for x in fruits:\n",
        "  if \"apple\" in x or \"cherry\" in x:\n",
        "    newlist.append(x)\n",
        "\n",
        "print(newlist)"
      ],
      "metadata": {
        "colab": {
          "base_uri": "https://localhost:8080/"
        },
        "id": "vttAod59ZP24",
        "outputId": "e14d3582-3839-4906-a4dd-93264e6b14dd"
      },
      "execution_count": null,
      "outputs": [
        {
          "output_type": "stream",
          "name": "stdout",
          "text": [
            "['apple', 'cherry']\n"
          ]
        }
      ]
    },
    {
      "cell_type": "code",
      "source": [
        "#You can use the built-in List method copy() to copy a list\n",
        "thislist = [\"apple\", \"banana\", \"cherry\"]\n",
        "mylist = thislist.copy()\n",
        "print(mylist)"
      ],
      "metadata": {
        "colab": {
          "base_uri": "https://localhost:8080/"
        },
        "id": "Oe5BxDHfaENl",
        "outputId": "730a6c58-1731-45cf-9792-9c1467233479"
      },
      "execution_count": null,
      "outputs": [
        {
          "output_type": "stream",
          "name": "stdout",
          "text": [
            "['apple', 'banana', 'cherry']\n"
          ]
        }
      ]
    },
    {
      "cell_type": "markdown",
      "source": [
        "# **🚀 Project 1: To-Do List Manager**\n",
        "\n",
        "**📌 Objective:**\n",
        "\n",
        "Create a simple Python program that allows users to add, remove, and view tasks using lists.\n",
        "\n",
        "* 🔹 Features:\n",
        "* ✔️ Add a new task\n",
        "* ✔️ Remove a completed task\n",
        "* ✔️ View all tasks\n",
        "* ✔️ Exit the program"
      ],
      "metadata": {
        "id": "3-dutaVjV3nT"
      }
    },
    {
      "cell_type": "code",
      "source": [
        "# To-Do List Manager\n",
        "tasks = []  # Empty list to store tasks\n",
        "\n",
        "while True:\n",
        "    print(\"\\n📌 To-Do List Manager\")\n",
        "    print(\"1. Add Task\")\n",
        "    print(\"2. Remove Task\")\n",
        "    print(\"3. View Tasks\")\n",
        "    print(\"4. Exit\")\n",
        "\n",
        "    choice = input(\"Enter your choice (1-4): \")\n",
        "\n",
        "    if choice == \"1\":\n",
        "        task = input(\"Enter a new task: \")\n",
        "        tasks.append(task)\n",
        "        print(f\"✅ Task '{task}' added successfully!\")\n",
        "\n",
        "    elif choice == \"2\":\n",
        "        task = input(\"Enter the task to remove: \")\n",
        "        if task in tasks:\n",
        "            tasks.remove(task)\n",
        "            print(f\"❌ Task '{task}' removed successfully!\")\n",
        "        else:\n",
        "            print(\"⚠️ Task not found!\")\n",
        "\n",
        "    elif choice == \"3\":\n",
        "        print(\"\\n📝 Your Tasks:\")\n",
        "        if len(tasks) == 0:\n",
        "            print(\"No tasks available!\")\n",
        "        else:\n",
        "            for i, task in enumerate(tasks, start=1):\n",
        "                print(f\"{i}. {task}\")\n",
        "\n",
        "    elif choice == \"4\":\n",
        "        print(\"👋 Exiting the To-Do List Manager. Have a great day!\")\n",
        "        break\n",
        "\n",
        "    else:\n",
        "        print(\"⚠️ Invalid choice! Please enter a number between 1 and 4.\")\n"
      ],
      "metadata": {
        "colab": {
          "base_uri": "https://localhost:8080/"
        },
        "id": "FBeI9oXvVCmJ",
        "outputId": "b39a7883-1865-4130-9b5f-2c1c7032b01a"
      },
      "execution_count": null,
      "outputs": [
        {
          "output_type": "stream",
          "name": "stdout",
          "text": [
            "\n",
            "📌 To-Do List Manager\n",
            "1. Add Task\n",
            "2. Remove Task\n",
            "3. View Tasks\n",
            "4. Exit\n",
            "Enter your choice (1-4): 1\n",
            "Enter a new task: python\n",
            "✅ Task 'python' added successfully!\n",
            "\n",
            "📌 To-Do List Manager\n",
            "1. Add Task\n",
            "2. Remove Task\n",
            "3. View Tasks\n",
            "4. Exit\n",
            "Enter your choice (1-4): 1\n",
            "Enter a new task: excel\n",
            "✅ Task 'excel' added successfully!\n",
            "\n",
            "📌 To-Do List Manager\n",
            "1. Add Task\n",
            "2. Remove Task\n",
            "3. View Tasks\n",
            "4. Exit\n",
            "Enter your choice (1-4): power bi\n",
            "⚠️ Invalid choice! Please enter a number between 1 and 4.\n",
            "\n",
            "📌 To-Do List Manager\n",
            "1. Add Task\n",
            "2. Remove Task\n",
            "3. View Tasks\n",
            "4. Exit\n",
            "Enter your choice (1-4): 1\n",
            "Enter a new task: power bi\n",
            "✅ Task 'power bi' added successfully!\n",
            "\n",
            "📌 To-Do List Manager\n",
            "1. Add Task\n",
            "2. Remove Task\n",
            "3. View Tasks\n",
            "4. Exit\n",
            "Enter your choice (1-4): 3\n",
            "\n",
            "📝 Your Tasks:\n",
            "1. python\n",
            "2. excel\n",
            "3. power bi\n",
            "\n",
            "📌 To-Do List Manager\n",
            "1. Add Task\n",
            "2. Remove Task\n",
            "3. View Tasks\n",
            "4. Exit\n",
            "Enter your choice (1-4): 6\n",
            "⚠️ Invalid choice! Please enter a number between 1 and 4.\n",
            "\n",
            "📌 To-Do List Manager\n",
            "1. Add Task\n",
            "2. Remove Task\n",
            "3. View Tasks\n",
            "4. Exit\n",
            "Enter your choice (1-4): 4\n",
            "👋 Exiting the To-Do List Manager. Have a great day!\n"
          ]
        }
      ]
    },
    {
      "cell_type": "code",
      "source": [],
      "metadata": {
        "id": "j9DLnjwpak6W"
      },
      "execution_count": null,
      "outputs": []
    }
  ]
}