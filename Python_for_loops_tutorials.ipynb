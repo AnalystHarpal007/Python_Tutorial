{
  "nbformat": 4,
  "nbformat_minor": 0,
  "metadata": {
    "colab": {
      "provenance": [],
      "authorship_tag": "ABX9TyO2TYs1H+/FNZlRFKzZC4Bl",
      "include_colab_link": true
    },
    "kernelspec": {
      "name": "python3",
      "display_name": "Python 3"
    },
    "language_info": {
      "name": "python"
    }
  },
  "cells": [
    {
      "cell_type": "markdown",
      "metadata": {
        "id": "view-in-github",
        "colab_type": "text"
      },
      "source": [
        "<a href=\"https://colab.research.google.com/github/AnalystHarpal007/Python_Tutorial/blob/main/Python_for_loops_tutorials.ipynb\" target=\"_parent\"><img src=\"https://colab.research.google.com/assets/colab-badge.svg\" alt=\"Open In Colab\"/></a>"
      ]
    },
    {
      "cell_type": "markdown",
      "source": [
        "# **Python for Loop**\n",
        "\n",
        "The for loop in Python is a control flow statement used to iterate over a sequence (like lists, tuples, dictionaries, sets, or strings) and execute a block of code multiple times."
      ],
      "metadata": {
        "id": "fUqYFjzcNoHy"
      }
    },
    {
      "cell_type": "markdown",
      "source": [
        "**1. Basic Syntax**"
      ],
      "metadata": {
        "id": "4Q-5x1euN1jC"
      }
    },
    {
      "cell_type": "code",
      "execution_count": 2,
      "metadata": {
        "colab": {
          "base_uri": "https://localhost:8080/"
        },
        "id": "HgtZvlWoMh2d",
        "outputId": "0f057e76-b0e1-4008-cf74-8a7b094617c0"
      },
      "outputs": [
        {
          "output_type": "stream",
          "name": "stdout",
          "text": [
            "1\n",
            "2\n",
            "3\n",
            "4\n",
            "5\n"
          ]
        }
      ],
      "source": [
        "#for variable in sequence:\n",
        "    # Code block\n",
        "numbers = [1, 2, 3, 4, 5]\n",
        "for num in numbers:\n",
        "    print(num)\n"
      ]
    },
    {
      "cell_type": "markdown",
      "source": [
        "variable: A temporary variable that holds each value in the sequence.\n",
        "\n",
        "sequence: Any iterable object (list, tuple, string, dictionary, range, etc.).\n",
        "\n",
        "The loop runs until all items in the sequence are exhausted."
      ],
      "metadata": {
        "id": "DUUxWuyCOFE8"
      }
    },
    {
      "cell_type": "markdown",
      "source": [
        "# **Using range() in a for Loop**"
      ],
      "metadata": {
        "id": "ZU-9ky3uOYsM"
      }
    },
    {
      "cell_type": "markdown",
      "source": [
        "The range() function generates a sequence of numbers.\n",
        "\n",
        "Example 2: Looping with range() **bold text**"
      ],
      "metadata": {
        "id": "-VVnSjhUOb9f"
      }
    },
    {
      "cell_type": "code",
      "source": [
        "for i in range(5):  # Generates numbers 0 to 4\n",
        "    print(i)\n"
      ],
      "metadata": {
        "colab": {
          "base_uri": "https://localhost:8080/"
        },
        "id": "rWJe_9dTN4MX",
        "outputId": "725b278e-d6f6-4115-d16a-8a3b3085f163"
      },
      "execution_count": 3,
      "outputs": [
        {
          "output_type": "stream",
          "name": "stdout",
          "text": [
            "0\n",
            "1\n",
            "2\n",
            "3\n",
            "4\n"
          ]
        }
      ]
    },
    {
      "cell_type": "code",
      "source": [
        "#Example 3: Specifying Start and Step\n",
        "for i in range(2, 10, 2):  # Starts at 2, ends before 10, increments by 2\n",
        "    print(i)\n"
      ],
      "metadata": {
        "colab": {
          "base_uri": "https://localhost:8080/"
        },
        "id": "xqEp4rqHOeP1",
        "outputId": "b829de12-cab2-4e3a-c6c7-4af5b03cb424"
      },
      "execution_count": 4,
      "outputs": [
        {
          "output_type": "stream",
          "name": "stdout",
          "text": [
            "2\n",
            "4\n",
            "6\n",
            "8\n"
          ]
        }
      ]
    },
    {
      "cell_type": "markdown",
      "source": [
        "# **Iterating Over Strings**\n",
        "\n",
        "A for loop can iterate over each character in a string."
      ],
      "metadata": {
        "id": "roRpDZfBOnuz"
      }
    },
    {
      "cell_type": "code",
      "source": [
        "#Example 4: Looping Over a String\n",
        "word = \"Python\"\n",
        "for letter in word:\n",
        "    print(letter)\n"
      ],
      "metadata": {
        "colab": {
          "base_uri": "https://localhost:8080/"
        },
        "id": "ua9fgr99OlcC",
        "outputId": "dc155f1e-8233-4a19-f6a0-a526a646f6cc"
      },
      "execution_count": 5,
      "outputs": [
        {
          "output_type": "stream",
          "name": "stdout",
          "text": [
            "P\n",
            "y\n",
            "t\n",
            "h\n",
            "o\n",
            "n\n"
          ]
        }
      ]
    },
    {
      "cell_type": "markdown",
      "source": [
        "# **Iterating Over Dictionaries**\n",
        "\n",
        "We can loop through dictionary keys, values, or both."
      ],
      "metadata": {
        "id": "yNEwqt8EO1QO"
      }
    },
    {
      "cell_type": "code",
      "source": [
        "#Example 5: Looping Over Dictionary Keys\n",
        "student = {\"name\": \"John\", \"age\": 20, \"grade\": \"A\"}\n",
        "for key in student:\n",
        "    print(key, \":\", student[key])\n"
      ],
      "metadata": {
        "colab": {
          "base_uri": "https://localhost:8080/"
        },
        "id": "CoCe_BAzOwfz",
        "outputId": "86b9f594-de7c-48eb-e145-6fa09a41fade"
      },
      "execution_count": 6,
      "outputs": [
        {
          "output_type": "stream",
          "name": "stdout",
          "text": [
            "name : John\n",
            "age : 20\n",
            "grade : A\n"
          ]
        }
      ]
    },
    {
      "cell_type": "code",
      "source": [
        "#Example 6: Looping Over Dictionary Items\n",
        "\n",
        "for key, value in student.items():\n",
        "    print(f\"{key}: {value}\")\n"
      ],
      "metadata": {
        "colab": {
          "base_uri": "https://localhost:8080/"
        },
        "id": "7DUjgHxOO6w2",
        "outputId": "37b3df05-17af-4e82-830d-c0f5694cb84b"
      },
      "execution_count": 7,
      "outputs": [
        {
          "output_type": "stream",
          "name": "stdout",
          "text": [
            "name: John\n",
            "age: 20\n",
            "grade: A\n"
          ]
        }
      ]
    },
    {
      "cell_type": "markdown",
      "source": [
        "# **Nested for Loops**\n",
        "\n",
        "A loop inside another loop."
      ],
      "metadata": {
        "id": "gqYk_JLPPB9E"
      }
    },
    {
      "cell_type": "code",
      "source": [
        "for i in range(1, 4):\n",
        "    for j in range(1, 3):\n",
        "        print(f\"i={i}, j={j}\")\n"
      ],
      "metadata": {
        "colab": {
          "base_uri": "https://localhost:8080/"
        },
        "id": "XtDHfpIXO-fM",
        "outputId": "e2427e54-1bd3-48f1-a58d-d951923e9fdf"
      },
      "execution_count": 8,
      "outputs": [
        {
          "output_type": "stream",
          "name": "stdout",
          "text": [
            "i=1, j=1\n",
            "i=1, j=2\n",
            "i=2, j=1\n",
            "i=2, j=2\n",
            "i=3, j=1\n",
            "i=3, j=2\n"
          ]
        }
      ]
    },
    {
      "cell_type": "markdown",
      "source": [
        "# **Using else with for Loops**\n",
        "\n",
        "The else block executes after the loop completes normally (not if it’s broken with break)."
      ],
      "metadata": {
        "id": "TUmyC7C5PIAy"
      }
    },
    {
      "cell_type": "code",
      "source": [
        "for num in range(3):\n",
        "    print(num)\n",
        "else:\n",
        "    print(\"Loop finished!\")\n"
      ],
      "metadata": {
        "colab": {
          "base_uri": "https://localhost:8080/"
        },
        "id": "6lLqnQZvPFam",
        "outputId": "8db79912-e2f7-4bef-a892-73291e7c996e"
      },
      "execution_count": 9,
      "outputs": [
        {
          "output_type": "stream",
          "name": "stdout",
          "text": [
            "0\n",
            "1\n",
            "2\n",
            "Loop finished!\n"
          ]
        }
      ]
    },
    {
      "cell_type": "markdown",
      "source": [
        "# **break and continue Statements**\n",
        "\n",
        "break exits the loop early.\n",
        "\n",
        "continue skips the current iteration and moves to the next."
      ],
      "metadata": {
        "id": "6DPfKOGFPOql"
      }
    },
    {
      "cell_type": "code",
      "source": [
        "for num in range(5):\n",
        "    if num == 3:\n",
        "        break\n",
        "    print(num)\n"
      ],
      "metadata": {
        "colab": {
          "base_uri": "https://localhost:8080/"
        },
        "id": "mgMZCNdGPMk0",
        "outputId": "75b69d05-ef13-47ed-b60e-52a20b2912b3"
      },
      "execution_count": 10,
      "outputs": [
        {
          "output_type": "stream",
          "name": "stdout",
          "text": [
            "0\n",
            "1\n",
            "2\n"
          ]
        }
      ]
    },
    {
      "cell_type": "code",
      "source": [
        "# Example 10: Using continue\n",
        "for num in range(5):\n",
        "    if num == 3:\n",
        "        continue\n",
        "    print(num)\n"
      ],
      "metadata": {
        "colab": {
          "base_uri": "https://localhost:8080/"
        },
        "id": "NiGHD1OPPWx_",
        "outputId": "f4ad3da6-5157-41b9-be83-cba68838bf5f"
      },
      "execution_count": 11,
      "outputs": [
        {
          "output_type": "stream",
          "name": "stdout",
          "text": [
            "0\n",
            "1\n",
            "2\n",
            "4\n"
          ]
        }
      ]
    },
    {
      "cell_type": "markdown",
      "source": [
        "# **List Comprehension with for Loops**\n",
        "\n",
        "List comprehension is a concise way to create lists."
      ],
      "metadata": {
        "id": "DjO3Ai4dPgtr"
      }
    },
    {
      "cell_type": "code",
      "source": [
        "# Example 11: Creating a List with Comprehension\n",
        "squares = [x**2 for x in range(5)]\n",
        "print(squares)\n"
      ],
      "metadata": {
        "colab": {
          "base_uri": "https://localhost:8080/"
        },
        "id": "e8S2oOR8PeR1",
        "outputId": "b038d398-edfb-481c-ab9a-66013622b02d"
      },
      "execution_count": 12,
      "outputs": [
        {
          "output_type": "stream",
          "name": "stdout",
          "text": [
            "[0, 1, 4, 9, 16]\n"
          ]
        }
      ]
    },
    {
      "cell_type": "markdown",
      "source": [
        "# **Hands-On Practice Questions**\n",
        "\n",
        "**Q1: Print numbers from 1 to 10 using a for loop.**"
      ],
      "metadata": {
        "id": "Wcn1CorfPtfp"
      }
    },
    {
      "cell_type": "code",
      "source": [
        "for i in range(1, 11):\n",
        "    print(i)\n"
      ],
      "metadata": {
        "colab": {
          "base_uri": "https://localhost:8080/"
        },
        "id": "0JYDq8MTPqwN",
        "outputId": "b605972b-76ea-4d56-bc44-d448fc331eab"
      },
      "execution_count": 13,
      "outputs": [
        {
          "output_type": "stream",
          "name": "stdout",
          "text": [
            "1\n",
            "2\n",
            "3\n",
            "4\n",
            "5\n",
            "6\n",
            "7\n",
            "8\n",
            "9\n",
            "10\n"
          ]
        }
      ]
    },
    {
      "cell_type": "markdown",
      "source": [
        "**Q2: Find the sum of all elements in a list.**"
      ],
      "metadata": {
        "id": "N-cBlN0rP0pQ"
      }
    },
    {
      "cell_type": "code",
      "source": [
        "numbers = [10, 20, 30, 40]\n",
        "total = 0\n",
        "for num in numbers:\n",
        "    total += num\n",
        "print(\"Sum:\", total)\n"
      ],
      "metadata": {
        "colab": {
          "base_uri": "https://localhost:8080/"
        },
        "id": "_Sy-hUK-Pyzs",
        "outputId": "ee8b7f1a-8b91-47f4-bf15-f0a9cc5a9691"
      },
      "execution_count": 14,
      "outputs": [
        {
          "output_type": "stream",
          "name": "stdout",
          "text": [
            "Sum: 100\n"
          ]
        }
      ]
    },
    {
      "cell_type": "markdown",
      "source": [
        "**Q3: Count occurrences of a character in a string.**"
      ],
      "metadata": {
        "id": "E1GCWIsnP6Sh"
      }
    },
    {
      "cell_type": "code",
      "source": [
        "text = \"data analysis\"\n",
        "char_to_find = \"a\"\n",
        "count = 0\n",
        "for char in text:\n",
        "    if char == char_to_find:\n",
        "        count += 1\n",
        "print(f\"'{char_to_find}' appears {count} times.\")\n"
      ],
      "metadata": {
        "colab": {
          "base_uri": "https://localhost:8080/"
        },
        "id": "otNRyUelP37_",
        "outputId": "e2ef4f77-9795-4615-e5dd-75c385dd4367"
      },
      "execution_count": 15,
      "outputs": [
        {
          "output_type": "stream",
          "name": "stdout",
          "text": [
            "'a' appears 4 times.\n"
          ]
        }
      ]
    },
    {
      "cell_type": "markdown",
      "source": [
        "# **Real Interview Questions on for Loops (With Solutions)**"
      ],
      "metadata": {
        "id": "E7FLX4QxQJjq"
      }
    },
    {
      "cell_type": "markdown",
      "source": [
        "**Q1: Reverse a string using a for loop.**"
      ],
      "metadata": {
        "id": "Wyxm8DbMQM6p"
      }
    },
    {
      "cell_type": "code",
      "source": [
        "word = \"Python\"\n",
        "reversed_word = \"\"\n",
        "for char in word:\n",
        "    reversed_word = char + reversed_word\n",
        "print(reversed_word)\n"
      ],
      "metadata": {
        "colab": {
          "base_uri": "https://localhost:8080/"
        },
        "id": "AYuq0ybGP8pv",
        "outputId": "11b9836f-259a-4ac6-e469-80e6bf609831"
      },
      "execution_count": 16,
      "outputs": [
        {
          "output_type": "stream",
          "name": "stdout",
          "text": [
            "nohtyP\n"
          ]
        }
      ]
    },
    {
      "cell_type": "markdown",
      "source": [
        "**Q2: Print the Fibonacci series using a for loop.**"
      ],
      "metadata": {
        "id": "xaWXvo8wQT8c"
      }
    },
    {
      "cell_type": "code",
      "source": [
        "n = 10\n",
        "a, b = 0, 1\n",
        "for _ in range(n):\n",
        "    print(a, end=\" \")\n",
        "    a, b = b, a + b\n"
      ],
      "metadata": {
        "colab": {
          "base_uri": "https://localhost:8080/"
        },
        "id": "T3msR3tQQRwn",
        "outputId": "ee5ab187-76f1-4121-8a54-ecbe115f1be3"
      },
      "execution_count": 17,
      "outputs": [
        {
          "output_type": "stream",
          "name": "stdout",
          "text": [
            "0 1 1 2 3 5 8 13 21 34 "
          ]
        }
      ]
    },
    {
      "cell_type": "markdown",
      "source": [
        "**Q3: Print all prime numbers from 1 to 50.**"
      ],
      "metadata": {
        "id": "xICpBWDdQXAI"
      }
    },
    {
      "cell_type": "code",
      "source": [
        "for num in range(2, 51):\n",
        "    is_prime = True\n",
        "    for i in range(2, int(num**0.5) + 1):\n",
        "        if num % i == 0:\n",
        "            is_prime = False\n",
        "            break\n",
        "    if is_prime:\n",
        "        print(num, end=\" \")\n"
      ],
      "metadata": {
        "colab": {
          "base_uri": "https://localhost:8080/"
        },
        "id": "6MtqDzEyQYqP",
        "outputId": "5121438d-2b6e-4e19-a98e-16620c091ef1"
      },
      "execution_count": 18,
      "outputs": [
        {
          "output_type": "stream",
          "name": "stdout",
          "text": [
            "2 3 5 7 11 13 17 19 23 29 31 37 41 43 47 "
          ]
        }
      ]
    },
    {
      "cell_type": "code",
      "source": [],
      "metadata": {
        "id": "nAob5UlPQcb_"
      },
      "execution_count": null,
      "outputs": []
    }
  ]
}