{
  "nbformat": 4,
  "nbformat_minor": 0,
  "metadata": {
    "colab": {
      "provenance": [],
      "authorship_tag": "ABX9TyPaLlU59kQh63BnggHDgHF6",
      "include_colab_link": true
    },
    "kernelspec": {
      "name": "python3",
      "display_name": "Python 3"
    },
    "language_info": {
      "name": "python"
    }
  },
  "cells": [
    {
      "cell_type": "markdown",
      "metadata": {
        "id": "view-in-github",
        "colab_type": "text"
      },
      "source": [
        "<a href=\"https://colab.research.google.com/github/AnalystHarpal007/Python_Tutorial/blob/main/Python_Sets_tutorial.ipynb\" target=\"_parent\"><img src=\"https://colab.research.google.com/assets/colab-badge.svg\" alt=\"Open In Colab\"/></a>"
      ]
    },
    {
      "cell_type": "markdown",
      "source": [
        "# **Python Sets:**\n",
        "\n",
        "Python sets are an essential data structure that helps efficiently handle unique, unordered collections of elements. Understanding sets is crucial for tasks like data cleaning, removing duplicates, and performing mathematical operations such as union and intersection.\n",
        "\n"
      ],
      "metadata": {
        "id": "t_OPegvNE1MQ"
      }
    },
    {
      "cell_type": "markdown",
      "source": [
        "A set is an unordered collection of unique elements. Unlike lists or tuples, sets do not allow duplicate values and do not maintain order.\n",
        "\n",
        "**Key Characteristics of Sets**\n",
        "\n",
        "Unordered: No specific order of elements.\n",
        "\n",
        "Mutable: You can add or remove elements.\n",
        "\n",
        "Unique Elements: No duplicates allowed.\n",
        "\n",
        "Unindexed: Elements are accessed through iteration, not indexing."
      ],
      "metadata": {
        "id": "ob9QCWiOFQiy"
      }
    },
    {
      "cell_type": "markdown",
      "source": [
        "# **Creating Sets in python**"
      ],
      "metadata": {
        "id": "RKtOwXRFFWvw"
      }
    },
    {
      "cell_type": "markdown",
      "source": [
        "**Using Curly Braces {}**"
      ],
      "metadata": {
        "id": "eRVRCKB3FjNq"
      }
    },
    {
      "cell_type": "code",
      "execution_count": 2,
      "metadata": {
        "colab": {
          "base_uri": "https://localhost:8080/"
        },
        "id": "zxQw27maEUWG",
        "outputId": "824730b9-92ec-4228-ec0b-93e4f5d9a98f"
      },
      "outputs": [
        {
          "output_type": "stream",
          "name": "stdout",
          "text": [
            "{'apple', 'banana', 'cherry'}\n"
          ]
        }
      ],
      "source": [
        "# Creating a set\n",
        "fruits = {\"apple\", \"banana\", \"cherry\"}\n",
        "print(fruits)\n",
        "\n",
        "#💡 Note: The order of output may vary because sets are unordered."
      ]
    },
    {
      "cell_type": "markdown",
      "source": [
        "**Using set() Constructor**"
      ],
      "metadata": {
        "id": "GIEiyr4BFzHh"
      }
    },
    {
      "cell_type": "code",
      "source": [
        "# Using set() function\n",
        "numbers = set([1, 2, 3, 4, 5, 1, 2])  # Duplicates are removed\n",
        "print(numbers)  # Output: {1, 2, 3, 4, 5}\n"
      ],
      "metadata": {
        "colab": {
          "base_uri": "https://localhost:8080/"
        },
        "id": "NkjJQV_jFtRQ",
        "outputId": "25f8319f-e823-41f1-a451-211598095604"
      },
      "execution_count": 3,
      "outputs": [
        {
          "output_type": "stream",
          "name": "stdout",
          "text": [
            "{1, 2, 3, 4, 5}\n"
          ]
        }
      ]
    },
    {
      "cell_type": "markdown",
      "source": [
        "**Accessing Set Elements**\n",
        "\n",
        "Since sets are unordered, elements cannot be accessed via indexing or slicing."
      ],
      "metadata": {
        "id": "dg9GGDWaF_No"
      }
    },
    {
      "cell_type": "markdown",
      "source": [
        "**Iterating Over a Set**"
      ],
      "metadata": {
        "id": "Po2kr1ZQGFIN"
      }
    },
    {
      "cell_type": "code",
      "source": [
        "# Iterating over a set\n",
        "colors = {\"red\", \"blue\", \"green\"}\n",
        "for color in colors:\n",
        "    print(color)\n"
      ],
      "metadata": {
        "colab": {
          "base_uri": "https://localhost:8080/"
        },
        "id": "uQu5WckuF8bH",
        "outputId": "7dba6784-e745-4a84-9e02-c5a24a25168a"
      },
      "execution_count": 4,
      "outputs": [
        {
          "output_type": "stream",
          "name": "stdout",
          "text": [
            "blue\n",
            "green\n",
            "red\n"
          ]
        }
      ]
    },
    {
      "cell_type": "markdown",
      "source": [
        "# **Modifying Sets**\n",
        "\n",
        "Adding Elements"
      ],
      "metadata": {
        "id": "eO5QeoI4GJro"
      }
    },
    {
      "cell_type": "code",
      "source": [
        "# Adding a single element\n",
        "numbers = {1, 2, 3}\n",
        "numbers.add(4)\n",
        "print(numbers)  # Output: {1, 2, 3, 4}\n"
      ],
      "metadata": {
        "colab": {
          "base_uri": "https://localhost:8080/"
        },
        "id": "9n0Ov2oTGHvq",
        "outputId": "36c69412-f29a-45c8-87d0-34b04dd822f5"
      },
      "execution_count": 5,
      "outputs": [
        {
          "output_type": "stream",
          "name": "stdout",
          "text": [
            "{1, 2, 3, 4}\n"
          ]
        }
      ]
    },
    {
      "cell_type": "markdown",
      "source": [
        "**Adding Multiple Elements**"
      ],
      "metadata": {
        "id": "N5Gdrt7yGeuN"
      }
    },
    {
      "cell_type": "code",
      "source": [
        "# Adding multiple elements using update()\n",
        "numbers.update([5, 6, 7])\n",
        "print(numbers)  # Output: {1, 2, 3, 4, 5, 6, 7}\n"
      ],
      "metadata": {
        "colab": {
          "base_uri": "https://localhost:8080/"
        },
        "id": "dS2Qn30NGO4i",
        "outputId": "131b0808-83bd-47ad-f748-27b2076b5aef"
      },
      "execution_count": 6,
      "outputs": [
        {
          "output_type": "stream",
          "name": "stdout",
          "text": [
            "{1, 2, 3, 4, 5, 6, 7}\n"
          ]
        }
      ]
    },
    {
      "cell_type": "markdown",
      "source": [
        "**Removing Elements**"
      ],
      "metadata": {
        "id": "zghQ0JD2GnG5"
      }
    },
    {
      "cell_type": "code",
      "source": [
        "# Removing an element (raises an error if element is not found)\n",
        "numbers.remove(3)\n",
        "print(numbers)\n"
      ],
      "metadata": {
        "colab": {
          "base_uri": "https://localhost:8080/"
        },
        "id": "R_sZ75LjGiQK",
        "outputId": "c555a0cd-e2aa-4a37-d898-647b10d437d1"
      },
      "execution_count": 7,
      "outputs": [
        {
          "output_type": "stream",
          "name": "stdout",
          "text": [
            "{1, 2, 4, 5, 6, 7}\n"
          ]
        }
      ]
    },
    {
      "cell_type": "markdown",
      "source": [
        "**discard() Method**"
      ],
      "metadata": {
        "id": "kw7gxnDlGv67"
      }
    },
    {
      "cell_type": "code",
      "source": [
        "# Discarding an element (does not raise an error if element is not found)\n",
        "numbers.discard(10)  # No error even if 10 is not in the set\n"
      ],
      "metadata": {
        "id": "zuZj_qbFGp8m"
      },
      "execution_count": 8,
      "outputs": []
    },
    {
      "cell_type": "markdown",
      "source": [
        "**pop() Method**"
      ],
      "metadata": {
        "id": "30J568cLG0ow"
      }
    },
    {
      "cell_type": "code",
      "source": [
        "# Removing and returning a random element\n",
        "removed_element = numbers.pop()\n",
        "print(removed_element)\n"
      ],
      "metadata": {
        "colab": {
          "base_uri": "https://localhost:8080/"
        },
        "id": "kXhhnhQqGyGV",
        "outputId": "ae79b22d-bb4f-4068-dde4-9cb4e1e0f0ab"
      },
      "execution_count": 9,
      "outputs": [
        {
          "output_type": "stream",
          "name": "stdout",
          "text": [
            "1\n"
          ]
        }
      ]
    },
    {
      "cell_type": "markdown",
      "source": [
        "**clear() Method**"
      ],
      "metadata": {
        "id": "1BRqZ8t4G5Vz"
      }
    },
    {
      "cell_type": "code",
      "source": [
        "# Removing all elements\n",
        "numbers.clear()\n",
        "print(numbers)  # Output: set()\n"
      ],
      "metadata": {
        "colab": {
          "base_uri": "https://localhost:8080/"
        },
        "id": "6tcvBILpG2k6",
        "outputId": "65a92cbd-fe26-458b-f811-4ae599173475"
      },
      "execution_count": 10,
      "outputs": [
        {
          "output_type": "stream",
          "name": "stdout",
          "text": [
            "set()\n"
          ]
        }
      ]
    },
    {
      "cell_type": "markdown",
      "source": [
        "# **Set Operations (Mathematical Set Operations)**"
      ],
      "metadata": {
        "id": "Q8g3zOMDG_l7"
      }
    },
    {
      "cell_type": "markdown",
      "source": [
        "Python sets support mathematical operations like union, intersection, difference, and symmetric difference"
      ],
      "metadata": {
        "id": "w7NEBH55HFCm"
      }
    },
    {
      "cell_type": "markdown",
      "source": [
        "**Union (| or .union())**\n",
        "\n",
        "Returns a new set with all elements from both sets."
      ],
      "metadata": {
        "id": "qkButUcsHHp2"
      }
    },
    {
      "cell_type": "code",
      "source": [
        "set1 = {1, 2, 3}\n",
        "set2 = {3, 4, 5}\n",
        "union_set = set1 | set2  # OR set1.union(set2)\n",
        "print(union_set)  # Output: {1, 2, 3, 4, 5}\n"
      ],
      "metadata": {
        "colab": {
          "base_uri": "https://localhost:8080/"
        },
        "id": "7p7lOBqXG7P5",
        "outputId": "3081b59e-dfe0-440f-cebc-6118fb2a0071"
      },
      "execution_count": 11,
      "outputs": [
        {
          "output_type": "stream",
          "name": "stdout",
          "text": [
            "{1, 2, 3, 4, 5}\n"
          ]
        }
      ]
    },
    {
      "cell_type": "markdown",
      "source": [
        "**Intersection (& or .intersection())**\n",
        "\n",
        "Returns a set with only common elements."
      ],
      "metadata": {
        "id": "1sXFTbHYHL6k"
      }
    },
    {
      "cell_type": "code",
      "source": [
        "intersection_set = set1 & set2  # OR set1.intersection(set2)\n",
        "print(intersection_set)  # Output: {3}\n"
      ],
      "metadata": {
        "colab": {
          "base_uri": "https://localhost:8080/"
        },
        "id": "kBGnNUDSHfxk",
        "outputId": "12077249-79b6-41f5-d97a-7cc7e50f1ad8"
      },
      "execution_count": 12,
      "outputs": [
        {
          "output_type": "stream",
          "name": "stdout",
          "text": [
            "{3}\n"
          ]
        }
      ]
    },
    {
      "cell_type": "markdown",
      "source": [
        "**Difference (- or .difference())**\n",
        "\n",
        "Returns elements that are in set1 but not in set2."
      ],
      "metadata": {
        "id": "AsIKyBlxHbJP"
      }
    },
    {
      "cell_type": "code",
      "source": [
        "difference_set = set1 - set2  # OR set1.difference(set2)\n",
        "print(difference_set)  # Output: {1, 2}\n"
      ],
      "metadata": {
        "colab": {
          "base_uri": "https://localhost:8080/"
        },
        "id": "Fy6fXjv_HJS7",
        "outputId": "5b5f507f-8920-4018-c39e-de5761f58198"
      },
      "execution_count": 13,
      "outputs": [
        {
          "output_type": "stream",
          "name": "stdout",
          "text": [
            "{1, 2}\n"
          ]
        }
      ]
    },
    {
      "cell_type": "markdown",
      "source": [
        "**Symmetric Difference (^ or .symmetric_difference())**\n",
        "\n",
        "Returns elements that are in either set1 or set2, but not in both."
      ],
      "metadata": {
        "id": "6R5mCD_cHpCX"
      }
    },
    {
      "cell_type": "code",
      "source": [
        "sym_diff_set = set1 ^ set2  # OR set1.symmetric_difference(set2)\n",
        "print(sym_diff_set)  # Output: {1, 2, 4, 5}\n"
      ],
      "metadata": {
        "colab": {
          "base_uri": "https://localhost:8080/"
        },
        "id": "HdY1VYxFHizb",
        "outputId": "bd582e3b-ff09-4219-a309-839324d420b8"
      },
      "execution_count": 14,
      "outputs": [
        {
          "output_type": "stream",
          "name": "stdout",
          "text": [
            "{1, 2, 4, 5}\n"
          ]
        }
      ]
    },
    {
      "cell_type": "markdown",
      "source": [
        "# **Real Interview Questions with Solutions**\n",
        "\n",
        "**❓ Q1: How would you remove duplicate values from a list?**\n",
        "\n",
        "✅ Solution using Sets:"
      ],
      "metadata": {
        "id": "1BbM5ID3H15l"
      }
    },
    {
      "cell_type": "code",
      "source": [
        "def remove_duplicates(lst):\n",
        "    return list(set(lst))\n",
        "\n",
        "nums = [1, 2, 2, 3, 4, 4, 5]\n",
        "print(remove_duplicates(nums))  # Output: [1, 2, 3, 4, 5]\n"
      ],
      "metadata": {
        "colab": {
          "base_uri": "https://localhost:8080/"
        },
        "id": "C-sy4dEHHtc8",
        "outputId": "669c6662-2b03-46b5-a9a6-5380c4a8044b"
      },
      "execution_count": 15,
      "outputs": [
        {
          "output_type": "stream",
          "name": "stdout",
          "text": [
            "[1, 2, 3, 4, 5]\n"
          ]
        }
      ]
    },
    {
      "cell_type": "markdown",
      "source": [
        "**❓ Q2: Given two lists, find the common elements efficiently.**\n",
        "\n",
        "✅ Solution using Sets:"
      ],
      "metadata": {
        "id": "k9qNV9XPH_j-"
      }
    },
    {
      "cell_type": "code",
      "source": [
        "def common_elements(list1, list2):\n",
        "    return list(set(list1) & set(list2))\n",
        "\n",
        "print(common_elements([1, 2, 3, 4], [3, 4, 5, 6]))  # Output: [3, 4]\n"
      ],
      "metadata": {
        "colab": {
          "base_uri": "https://localhost:8080/"
        },
        "id": "-0q61va3H7IB",
        "outputId": "0bedc0c9-fe28-4c9c-9dc8-9fca6d8d42db"
      },
      "execution_count": 16,
      "outputs": [
        {
          "output_type": "stream",
          "name": "stdout",
          "text": [
            "[3, 4]\n"
          ]
        }
      ]
    },
    {
      "cell_type": "code",
      "source": [],
      "metadata": {
        "id": "eN15tQh_IEGh"
      },
      "execution_count": null,
      "outputs": []
    }
  ]
}