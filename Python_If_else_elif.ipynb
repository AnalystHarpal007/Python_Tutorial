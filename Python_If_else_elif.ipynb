{
  "nbformat": 4,
  "nbformat_minor": 0,
  "metadata": {
    "colab": {
      "provenance": [],
      "authorship_tag": "ABX9TyN7CkQsMvy0SJuzUUD9ubO8",
      "include_colab_link": true
    },
    "kernelspec": {
      "name": "python3",
      "display_name": "Python 3"
    },
    "language_info": {
      "name": "python"
    }
  },
  "cells": [
    {
      "cell_type": "markdown",
      "metadata": {
        "id": "view-in-github",
        "colab_type": "text"
      },
      "source": [
        "<a href=\"https://colab.research.google.com/github/AnalystHarpal007/Python_Tutorial/blob/main/Python_If_else_elif.ipynb\" target=\"_parent\"><img src=\"https://colab.research.google.com/assets/colab-badge.svg\" alt=\"Open In Colab\"/></a>"
      ]
    },
    {
      "cell_type": "markdown",
      "source": [
        "# **Python If-Else and Elif**\n",
        "\n",
        "**1. Understanding If-Else in Python**\n",
        "\n",
        "**Definition:**\n",
        "\n",
        "The if statement in Python is used to execute a block of code only if a specified condition is True. If the condition is False, the else block executes (if present)."
      ],
      "metadata": {
        "id": "TW-rps8dM_p-"
      }
    },
    {
      "cell_type": "code",
      "source": [
        "age = 20\n",
        "\n",
        "if age >= 18:\n",
        "    print(\"You are eligible to vote.\")\n",
        "else:\n",
        "    print(\"You are not eligible to vote.\")\n"
      ],
      "metadata": {
        "colab": {
          "base_uri": "https://localhost:8080/"
        },
        "id": "kAKVvz0ZPoqx",
        "outputId": "b2386374-8f5f-4713-9121-a107a782807f"
      },
      "execution_count": 1,
      "outputs": [
        {
          "output_type": "stream",
          "name": "stdout",
          "text": [
            "You are eligible to vote.\n"
          ]
        }
      ]
    },
    {
      "cell_type": "markdown",
      "source": [
        "**2. The Elif Statement**\n",
        "\n",
        "**Definition:**\n",
        "\n",
        "The elif statement allows us to check multiple conditions. It is used when you need more than two outcomes."
      ],
      "metadata": {
        "id": "Gx3w1qYyPs_o"
      }
    },
    {
      "cell_type": "code",
      "source": [
        "marks = 75\n",
        "\n",
        "if marks >= 90:\n",
        "    print(\"Grade: A\")\n",
        "elif marks >= 75:\n",
        "    print(\"Grade: B\")\n",
        "elif marks >= 60:\n",
        "    print(\"Grade: C\")\n",
        "else:\n",
        "    print(\"Grade: D\")\n"
      ],
      "metadata": {
        "colab": {
          "base_uri": "https://localhost:8080/"
        },
        "id": "-1OreWCbPwks",
        "outputId": "9d3f4cf8-d6b3-4073-fafb-ce5553cd0315"
      },
      "execution_count": 2,
      "outputs": [
        {
          "output_type": "stream",
          "name": "stdout",
          "text": [
            "Grade: B\n"
          ]
        }
      ]
    },
    {
      "cell_type": "markdown",
      "source": [
        "**3. Advanced If-Else Concepts**\n",
        "\n",
        "**(a) Nested If-Else**\n",
        "\n",
        "If statements can be nested inside other if statements."
      ],
      "metadata": {
        "id": "OCzpJh9NPWoe"
      }
    },
    {
      "cell_type": "code",
      "execution_count": 6,
      "metadata": {
        "colab": {
          "base_uri": "https://localhost:8080/"
        },
        "id": "UvWEGvtbT0f-",
        "outputId": "3cb92af9-7296-4e96-c890-0e78707375a6"
      },
      "outputs": [
        {
          "output_type": "stream",
          "name": "stdout",
          "text": [
            "You are eligible for the premium card\n"
          ]
        }
      ],
      "source": [
        "age = 29\n",
        "salary = 100000\n",
        "\n",
        "if age > 18:\n",
        "  if salary > 78000:\n",
        "    print(\"You are eligible for the premium card\")\n",
        "  else:\n",
        "    print(\"You are not eligible for the premium card\")\n",
        "else:\n",
        "  print(\"You are not eligible for the card\")"
      ]
    },
    {
      "cell_type": "markdown",
      "source": [
        "**(b) Using Logical Operators (and, or, not)**\n",
        "\n",
        "Logical operators allow combining multiple conditions."
      ],
      "metadata": {
        "id": "OKWZ4ABEQ0Fh"
      }
    },
    {
      "cell_type": "code",
      "source": [
        "temperature = 30\n",
        "humidity = 70\n",
        "\n",
        "if temperature > 25 and humidity > 60:\n",
        "    print(\"It's a hot and humid day.\")\n",
        "else:\n",
        "    print(\"The weather is comfortable.\")\n"
      ],
      "metadata": {
        "colab": {
          "base_uri": "https://localhost:8080/"
        },
        "id": "o5dpgntXQumU",
        "outputId": "c0e68969-f53f-44cd-e9e5-6030007f44bf"
      },
      "execution_count": 8,
      "outputs": [
        {
          "output_type": "stream",
          "name": "stdout",
          "text": [
            "It's a hot and humid day.\n"
          ]
        }
      ]
    },
    {
      "cell_type": "markdown",
      "source": [
        "# **Mini Projects**\n",
        "\n",
        "**(a) Mini Project 1: Simple ATM Transaction System**\n",
        "\n",
        "**Description:**\n",
        "\n",
        "Create a Python program that simulates an ATM machine. It should allow users to check their balance, deposit money, and withdraw money."
      ],
      "metadata": {
        "id": "olwfPw5_RINW"
      }
    },
    {
      "cell_type": "code",
      "source": [
        "balance = 1000\n",
        "\n",
        "print(\"Welcome to the ATM\")\n",
        "print(\"1. Check Balance\")\n",
        "print(\"2. Deposit Money\")\n",
        "print(\"3. Withdraw Money\")\n",
        "print(\"4. Exit\")\n",
        "\n",
        "choice = int(input(\"Enter your choice (1-4): \"))\n",
        "\n",
        "if choice == 1:\n",
        "    print(f\"Your balance is:{balance}\")\n",
        "elif choice == 2:\n",
        "    amount = float(input(\"Enter the amount to deposit: \"))\n",
        "    balance += amount\n",
        "    print(f\"Deposit of {amount} successful. Your new balance is: {balance}\")\n",
        "elif choice == 3:\n",
        "    amount = float(input(\"Enter the amount to withdraw: \"))\n",
        "    if amount <= balance:\n",
        "        balance -= amount\n",
        "        print(f\"Withdrawal of {amount} successful. Your new balance is: {balance}\")\n",
        "    else:\n",
        "      print(\"Balance is insufficient\")\n",
        "elif choice == 4:\n",
        "  print(\"Thank you for using the ATM\")\n",
        "else:\n",
        "  print(\"Invalid choice.Please select a valid option (1-4)\")\n"
      ],
      "metadata": {
        "colab": {
          "base_uri": "https://localhost:8080/"
        },
        "id": "YwuqShhhQ34X",
        "outputId": "ea31b87c-52b8-4cc1-a0a4-21bfe505d99e"
      },
      "execution_count": 13,
      "outputs": [
        {
          "output_type": "stream",
          "name": "stdout",
          "text": [
            "Welcome to the ATM\n",
            "1. Check Balance\n",
            "2. Deposit Money\n",
            "3. Withdraw Money\n",
            "4. Exit\n",
            "Enter your choice (1-4): 1\n",
            "Your balance is:1000\n"
          ]
        }
      ]
    },
    {
      "cell_type": "markdown",
      "source": [
        "**(b) Mini Project 2: Age Group Classifier**\n",
        "\n",
        "**Description:**\n",
        "\n",
        "Classify a person's age group into categories like \"Child\", \"Teen\", \"Adult\", or \"Senior\"."
      ],
      "metadata": {
        "id": "g0BpwvnETLNQ"
      }
    },
    {
      "cell_type": "code",
      "source": [
        "name = input(\"Please Enter your name: \")\n",
        "age = int(input(\"Enter your age: \"))\n",
        "\n",
        "if age < 13:\n",
        "    print(f\"{name} Your age is {age} and you are a Child.\")\n",
        "elif age >= 13 and age < 20:\n",
        "    print(f\"{name} Your age is {age} and you are a Teen.\")\n",
        "elif age >= 20 and age < 60:\n",
        "    print(f\"{name} Your age is {age} and you are an adult.\")\n",
        "else:\n",
        "    print(\"You are a Senior Citizen.\")\n"
      ],
      "metadata": {
        "colab": {
          "base_uri": "https://localhost:8080/"
        },
        "id": "bEz8fEZkTtwb",
        "outputId": "5c0f71aa-2441-4f0d-9761-b3ae76bb3ca5"
      },
      "execution_count": 20,
      "outputs": [
        {
          "output_type": "stream",
          "name": "stdout",
          "text": [
            "Please Enter your name: HARPAL\n",
            "Enter your age: 29\n",
            "HARPAL Your age is 29 and you are an adult.\n"
          ]
        }
      ]
    },
    {
      "cell_type": "markdown",
      "source": [
        "# **Real-World Projects**\n",
        "\n",
        "**(a) Real-World Project 1: Fraud Detection System**\n",
        "\n",
        "**Objective:**\n",
        "\n",
        "Build a system that flags potentially fraudulent transactions based on amount thresholds and frequency of transactions.\n",
        "\n",
        "**Steps:**\n",
        "\n",
        "Accept transaction details from the user.\n",
        "\n",
        "Check if the amount exceeds a suspicious limit (e.g., $10,000).\n",
        "\n",
        "Identify multiple transactions within a short period."
      ],
      "metadata": {
        "id": "dapjlcdtUr6L"
      }
    },
    {
      "cell_type": "code",
      "source": [
        "amount = float(input(\"Enter transaction amount: \"))\n",
        "frequency = int(input(\"Enter the number of transactions in the last hour: \"))\n",
        "\n",
        "if amount > 10000 or frequency > 5:\n",
        "    print(\"Potential Fraud Detected! Flagging transaction.\")\n",
        "else:\n",
        "    print(\"Transaction is normal.\")\n"
      ],
      "metadata": {
        "colab": {
          "base_uri": "https://localhost:8080/"
        },
        "id": "oPpmYwUKT-wy",
        "outputId": "c3283ab6-6bff-4f17-f50f-e64f4293e0a1"
      },
      "execution_count": 23,
      "outputs": [
        {
          "output_type": "stream",
          "name": "stdout",
          "text": [
            "Enter transaction amount: 11589\n",
            "Enter the number of transactions in the last hour: 7\n",
            "Potential Fraud Detected! Flagging transaction.\n"
          ]
        }
      ]
    },
    {
      "cell_type": "markdown",
      "source": [
        "**(b) Real-World Project 2: Smart Traffic Light Control System**\n",
        "\n",
        "**Objective:**\n",
        "\n",
        "A traffic light system that changes based on real-time conditions.\n",
        "\n",
        "**Steps:**\n",
        "\n",
        "Accept vehicle count at an intersection.\n",
        "\n",
        "Adjust the signal duration based on traffic density."
      ],
      "metadata": {
        "id": "s-_HKGtAVMS4"
      }
    },
    {
      "cell_type": "code",
      "source": [
        "vehicle_count = int(input(\"Enter number of vehicles waiting: \"))\n",
        "\n",
        "if vehicle_count > 50:\n",
        "    print(\"Traffic Light Duration: 90 seconds\")\n",
        "elif 30 <= vehicle_count <= 50:\n",
        "    print(\"Traffic Light Duration: 60 seconds\")\n",
        "else:\n",
        "    print(\"Traffic Light Duration: 30 seconds\")\n"
      ],
      "metadata": {
        "colab": {
          "base_uri": "https://localhost:8080/"
        },
        "id": "Gwn-UVxrVFWO",
        "outputId": "f3505ddf-c61b-49e5-ec7c-c45ee91e8dab"
      },
      "execution_count": 26,
      "outputs": [
        {
          "output_type": "stream",
          "name": "stdout",
          "text": [
            "Enter number of vehicles waiting: 3\n",
            "Traffic Light Duration: 30 seconds\n"
          ]
        }
      ]
    },
    {
      "cell_type": "markdown",
      "source": [
        "# **Interview Questions and Solutions**\n",
        "\n",
        "Q1: What is the difference between if, elif, and else in Python?\n",
        "\n",
        "Answer:\n",
        "\n",
        "if checks the first condition.\n",
        "\n",
        "elif allows multiple conditions to be checked sequentially.\n",
        "\n",
        "else runs if none of the previous conditions are met."
      ],
      "metadata": {
        "id": "abB-_a2PV_iZ"
      }
    },
    {
      "cell_type": "markdown",
      "source": [
        "Q2: Can you write a Python program to find the largest of three numbers using if-else?"
      ],
      "metadata": {
        "id": "KLkZBIkGWGtr"
      }
    },
    {
      "cell_type": "code",
      "source": [
        "a, b, c = map(int, input(\"Enter three numbers: \").split())\n",
        "\n",
        "if a >= b and a >= c:\n",
        "    print(f\"Largest number is {a}\")\n",
        "elif b >= a and b >= c:\n",
        "    print(f\"Largest number is {b}\")\n",
        "else:\n",
        "    print(f\"Largest number is {c}\")\n"
      ],
      "metadata": {
        "colab": {
          "base_uri": "https://localhost:8080/"
        },
        "id": "e6ugMtM5V1a7",
        "outputId": "9bfa362a-1d22-4d38-fc70-c5e64b165d2f"
      },
      "execution_count": 29,
      "outputs": [
        {
          "output_type": "stream",
          "name": "stdout",
          "text": [
            "Enter three numbers: 3 6 1\n",
            "Largest number is 6\n"
          ]
        }
      ]
    },
    {
      "cell_type": "code",
      "source": [],
      "metadata": {
        "id": "RYpkpeQYWxST"
      },
      "execution_count": null,
      "outputs": []
    }
  ]
}