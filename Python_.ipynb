{
  "nbformat": 4,
  "nbformat_minor": 0,
  "metadata": {
    "colab": {
      "provenance": [],
      "authorship_tag": "ABX9TyM1Hc84OGVaO9ByNYuekP/u",
      "include_colab_link": true
    },
    "kernelspec": {
      "name": "python3",
      "display_name": "Python 3"
    },
    "language_info": {
      "name": "python"
    }
  },
  "cells": [
    {
      "cell_type": "markdown",
      "metadata": {
        "id": "view-in-github",
        "colab_type": "text"
      },
      "source": [
        "<a href=\"https://colab.research.google.com/github/AnalystHarpal007/Python_Tutorial/blob/main/Python_.ipynb\" target=\"_parent\"><img src=\"https://colab.research.google.com/assets/colab-badge.svg\" alt=\"Open In Colab\"/></a>"
      ]
    },
    {
      "cell_type": "markdown",
      "source": [
        "# **Welcome to my python self learning series by Analyst Harpal Singh Armo**"
      ],
      "metadata": {
        "id": "zUTFaj3qsCkb"
      }
    },
    {
      "cell_type": "markdown",
      "source": [
        "# **Let's Start Learning**"
      ],
      "metadata": {
        "id": "wWwULi_F4nJ5"
      }
    },
    {
      "cell_type": "code",
      "execution_count": null,
      "metadata": {
        "colab": {
          "base_uri": "https://localhost:8080/"
        },
        "id": "s4wwg3UZm2Bi",
        "outputId": "0c46a753-7867-415e-f64b-b0024826636e"
      },
      "outputs": [
        {
          "output_type": "stream",
          "name": "stdout",
          "text": [
            "Hello World\n"
          ]
        }
      ],
      "source": [
        "print(\"Hello World\")"
      ]
    },
    {
      "cell_type": "code",
      "source": [
        "#To check the Python version of the editor, you can find it by importing the sys module:\n",
        "import sys\n",
        "\n",
        "print(sys.version)"
      ],
      "metadata": {
        "colab": {
          "base_uri": "https://localhost:8080/"
        },
        "id": "acX-Lhl_qRV9",
        "outputId": "6e4a58ca-d675-4b6f-a712-a89b1722cdf4"
      },
      "execution_count": null,
      "outputs": [
        {
          "output_type": "stream",
          "name": "stdout",
          "text": [
            "3.11.11 (main, Dec  4 2024, 08:55:07) [GCC 11.4.0]\n"
          ]
        }
      ]
    },
    {
      "cell_type": "markdown",
      "source": [
        "# **Indentation in Python**\n",
        "\n",
        "Indentation in Python refers to spaces or tabs used at the beginning of a line to define a block of code.\n",
        "\n",
        "\n",
        "\n",
        "*   Proper indentation is mandatory in Python; otherwise, you will get an IndentationError.\n",
        "\n",
        "*  It improves code readability.\n",
        "\n",
        "\n"
      ],
      "metadata": {
        "id": "oIKd83O-rspC"
      }
    },
    {
      "cell_type": "code",
      "source": [
        "# Example 1: Correct Indentation in an if Statement\n",
        "age = 18\n",
        "if age >= 18:\n",
        "    print(\"You are eligible to vote.\")  # Indented inside the if-block\n",
        "print(\"End of program.\")  # This is outside the if-block\n"
      ],
      "metadata": {
        "colab": {
          "base_uri": "https://localhost:8080/"
        },
        "id": "Jb9HkPr5qcuo",
        "outputId": "522029d1-a6a9-4f71-d067-96815c4d6b3e"
      },
      "execution_count": null,
      "outputs": [
        {
          "output_type": "stream",
          "name": "stdout",
          "text": [
            "You are eligible to vote.\n",
            "End of program.\n"
          ]
        }
      ]
    },
    {
      "cell_type": "code",
      "source": [
        "# Example 2: Incorrect Indentation (IndentationError)\n",
        "age = 18\n",
        "if age >= 18:\n",
        "print(\"You are eligible to vote.\")  # No indentation (ERROR!)\n"
      ],
      "metadata": {
        "colab": {
          "base_uri": "https://localhost:8080/",
          "height": 106
        },
        "id": "bfWo-Wv7sllp",
        "outputId": "0fc944f7-900a-4bd6-aa6c-b384904e8711"
      },
      "execution_count": null,
      "outputs": [
        {
          "output_type": "error",
          "ename": "IndentationError",
          "evalue": "expected an indented block after 'if' statement on line 3 (<ipython-input-8-3183a2cfc7da>, line 4)",
          "traceback": [
            "\u001b[0;36m  File \u001b[0;32m\"<ipython-input-8-3183a2cfc7da>\"\u001b[0;36m, line \u001b[0;32m4\u001b[0m\n\u001b[0;31m    print(\"You are eligible to vote.\")  # No indentation (ERROR!)\u001b[0m\n\u001b[0m    ^\u001b[0m\n\u001b[0;31mIndentationError\u001b[0m\u001b[0;31m:\u001b[0m expected an indented block after 'if' statement on line 3\n"
          ]
        }
      ]
    },
    {
      "cell_type": "markdown",
      "source": [
        "# **Commenting in Python**"
      ],
      "metadata": {
        "id": "OnQRB9VxtAFj"
      }
    },
    {
      "cell_type": "markdown",
      "source": [
        "A comment is a line in Python that is ignored by the interpreter. It is used to explain the code, improve readability, or temporarily disable code."
      ],
      "metadata": {
        "id": "LZBLweAGtT1C"
      }
    },
    {
      "cell_type": "code",
      "source": [
        "# Single-Line Comments (#)\n",
        "# This is a single-line comment\n",
        "print(\"Hello, World!\")  # This prints a message\n"
      ],
      "metadata": {
        "colab": {
          "base_uri": "https://localhost:8080/"
        },
        "id": "gSkql6UZsyIh",
        "outputId": "ceffac00-ba11-4fa7-dadb-ee6a90346921"
      },
      "execution_count": null,
      "outputs": [
        {
          "output_type": "stream",
          "name": "stdout",
          "text": [
            "Hello, World!\n"
          ]
        }
      ]
    },
    {
      "cell_type": "code",
      "source": [
        "# Multi-Line Comments (\"\"\" \"\"\" or ''' ''')\n",
        "\n",
        "\"\"\"\n",
        "This is a multi-line comment.\n",
        "It spans multiple lines.\n",
        "Python will ignore it.\n",
        "\"\"\"\n",
        "print(\"This is an example of multi-line comments.\")\n"
      ],
      "metadata": {
        "colab": {
          "base_uri": "https://localhost:8080/"
        },
        "id": "Yq_C3bs0tbgo",
        "outputId": "de95dbf2-21da-4377-91c4-db7bf2d7d524"
      },
      "execution_count": null,
      "outputs": [
        {
          "output_type": "stream",
          "name": "stdout",
          "text": [
            "This is an example of multi-line comments.\n"
          ]
        }
      ]
    },
    {
      "cell_type": "code",
      "source": [
        "# Using Multi-Line Comments to Explain Code Blocks\n",
        "\n",
        "# This program calculates the square of a number\n",
        "number = 5  # Define a number\n",
        "square = number ** 2  # Square the number\n",
        "print(\"Square:\", square)  # Print the result\n"
      ],
      "metadata": {
        "colab": {
          "base_uri": "https://localhost:8080/"
        },
        "id": "YKrzC3Vjtjzz",
        "outputId": "c9e0df93-e031-4d16-b046-441ae585e387"
      },
      "execution_count": null,
      "outputs": [
        {
          "output_type": "stream",
          "name": "stdout",
          "text": [
            "Square: 25\n"
          ]
        }
      ]
    },
    {
      "cell_type": "code",
      "source": [
        "number = 7\n",
        "squares = number**3\n",
        "print(\"square:\", squares)"
      ],
      "metadata": {
        "colab": {
          "base_uri": "https://localhost:8080/"
        },
        "id": "MzmW3iNMty-T",
        "outputId": "b09e8131-9679-41bd-bbc1-1b301516d3c9"
      },
      "execution_count": null,
      "outputs": [
        {
          "output_type": "stream",
          "name": "stdout",
          "text": [
            "square: 343\n"
          ]
        }
      ]
    },
    {
      "cell_type": "markdown",
      "source": [
        "# **Python print() Statements – Single Quotes vs. Double Quotes**\n",
        "\n",
        "Python allows both single and double quotes for strings in print() statements. They work the same way, and you can use either based on preference or convenience."
      ],
      "metadata": {
        "id": "b-tay2KeuURq"
      }
    },
    {
      "cell_type": "code",
      "source": [
        "# Using Single Quotes (' ')\n",
        "print('Hello, World!')\n"
      ],
      "metadata": {
        "colab": {
          "base_uri": "https://localhost:8080/"
        },
        "id": "UNilVQRKt_li",
        "outputId": "87d7dfb6-b899-4db3-d05b-a41bfadbcba6"
      },
      "execution_count": null,
      "outputs": [
        {
          "output_type": "stream",
          "name": "stdout",
          "text": [
            "Hello, World!\n"
          ]
        }
      ]
    },
    {
      "cell_type": "code",
      "source": [
        "# Using Double Quotes (\" \")\n",
        "print(\"Hello, World!\")\n",
        "\n",
        "#Works the same way as single quotes."
      ],
      "metadata": {
        "colab": {
          "base_uri": "https://localhost:8080/"
        },
        "id": "BpNnpbS5ugPT",
        "outputId": "d7c26782-93c2-43ef-8070-9af4d6a6ed8d"
      },
      "execution_count": null,
      "outputs": [
        {
          "output_type": "stream",
          "name": "stdout",
          "text": [
            "Hello, World!\n"
          ]
        }
      ]
    },
    {
      "cell_type": "markdown",
      "source": [
        "**When to Use Single vs. Double Quotes?**\n",
        "\n",
        "You can use either, but here’s when one is better than the other:"
      ],
      "metadata": {
        "id": "PPAnVzcturUU"
      }
    },
    {
      "cell_type": "markdown",
      "source": [
        "**A. When the Text Contains a Single Quote (Apostrophe ')**\n",
        "\n",
        "If your text has an apostrophe, use double quotes to avoid errors."
      ],
      "metadata": {
        "id": "wTHchO44zc-Q"
      }
    },
    {
      "cell_type": "code",
      "source": [
        "print(\"It's a beautiful day!\")  # ✅ Correct\n",
        "# print('It's a beautiful day!')  # ❌ Error! (Unmatched quotes)\n"
      ],
      "metadata": {
        "id": "BHDDWVsgujoQ",
        "colab": {
          "base_uri": "https://localhost:8080/"
        },
        "outputId": "60353fbc-f5dd-4cc5-86a1-a833ea587521"
      },
      "execution_count": null,
      "outputs": [
        {
          "output_type": "stream",
          "name": "stdout",
          "text": [
            "It's a beautiful day!\n"
          ]
        }
      ]
    },
    {
      "cell_type": "markdown",
      "source": [
        "The second statement gives a SyntaxError because Python thinks the string ends at \"It' and doesn't recognize the rest."
      ],
      "metadata": {
        "id": "axZIBd6uzytE"
      }
    },
    {
      "cell_type": "code",
      "source": [
        "#print(\"It's a beautiful day!\")  # ✅ Correct\n",
        "\n",
        "print('It's a beautiful day!')  # ❌ Error! (Unmatched quotes)\n"
      ],
      "metadata": {
        "id": "VoDLuVBVzrcL",
        "colab": {
          "base_uri": "https://localhost:8080/",
          "height": 106
        },
        "outputId": "fc3d0f8d-a6be-4165-dd21-c97b9f218f9d"
      },
      "execution_count": null,
      "outputs": [
        {
          "output_type": "error",
          "ename": "SyntaxError",
          "evalue": "unterminated string literal (detected at line 3) (<ipython-input-19-0de135409675>, line 3)",
          "traceback": [
            "\u001b[0;36m  File \u001b[0;32m\"<ipython-input-19-0de135409675>\"\u001b[0;36m, line \u001b[0;32m3\u001b[0m\n\u001b[0;31m    print('It's a beautiful day!')  # ❌ Error! (Unmatched quotes)\u001b[0m\n\u001b[0m                                ^\u001b[0m\n\u001b[0;31mSyntaxError\u001b[0m\u001b[0;31m:\u001b[0m unterminated string literal (detected at line 3)\n"
          ]
        }
      ]
    },
    {
      "cell_type": "markdown",
      "source": [
        "**B. When the Text Contains Double Quotes (\" \")**\n",
        "\n",
        "If your text has double quotes, use single quotes."
      ],
      "metadata": {
        "id": "PrIbliUg0Tcj"
      }
    },
    {
      "cell_type": "code",
      "source": [
        "print('She said, \"Python is amazing!\"')  # ✅ Correct\n",
        "# print(\"She said, \"Python is amazing!\"\")  # ❌ Error!\n"
      ],
      "metadata": {
        "colab": {
          "base_uri": "https://localhost:8080/"
        },
        "id": "LzWKu4So0F4H",
        "outputId": "39faf1de-4dc5-45d2-9068-9dffea30d70d"
      },
      "execution_count": null,
      "outputs": [
        {
          "output_type": "stream",
          "name": "stdout",
          "text": [
            "She said, \"Python is amazing!\"\n"
          ]
        }
      ]
    },
    {
      "cell_type": "markdown",
      "source": [
        "**Using Escape Characters ( \\ ) to Handle Quotes Inside Strings**\n",
        "\n",
        "If you want to use the same type of quote inside the string, you can escape it using \\ ."
      ],
      "metadata": {
        "id": "xIPz-DEdVAK8"
      }
    },
    {
      "cell_type": "code",
      "source": [
        "print('It\\'s a beautiful day!')  # Escaping single quote\n",
        "print(\"She said, \\\"Python is amazing!\\\"\")  # Escaping double quote\n"
      ],
      "metadata": {
        "colab": {
          "base_uri": "https://localhost:8080/"
        },
        "id": "2ZRxiHcA0bDy",
        "outputId": "fb8663f2-5f96-400b-e90a-54178ac73551"
      },
      "execution_count": null,
      "outputs": [
        {
          "output_type": "stream",
          "name": "stdout",
          "text": [
            "It's a beautiful day!\n",
            "She said, \"Python is amazing!\"\n"
          ]
        }
      ]
    },
    {
      "cell_type": "markdown",
      "source": [
        "**Using Triple Quotes (\"\"\" \"\"\" or ''' ''')**\n",
        "\n",
        "Triple quotes allow you to include both single and double quotes without escaping"
      ],
      "metadata": {
        "id": "XSrJefd2VhOD"
      }
    },
    {
      "cell_type": "code",
      "source": [
        "print(\"\"\"It's a \"beautiful\" day!\"\"\")  # Triple double-quotes\n",
        "print('''She said, \"Python's awesome!\"''')  # Triple single-quotes\n"
      ],
      "metadata": {
        "colab": {
          "base_uri": "https://localhost:8080/"
        },
        "id": "bDgUpK_pVQh3",
        "outputId": "f4f24c37-1c91-4722-8ebd-b5e589494ede"
      },
      "execution_count": null,
      "outputs": [
        {
          "output_type": "stream",
          "name": "stdout",
          "text": [
            "It's a \"beautiful\" day!\n",
            "She said, \"Python's awesome!\"\n"
          ]
        }
      ]
    },
    {
      "cell_type": "code",
      "source": [
        "# New Line\n",
        "print(\"Shopping list: \\nMilk \\nEggs \\nBread\")"
      ],
      "metadata": {
        "colab": {
          "base_uri": "https://localhost:8080/"
        },
        "id": "3yz3Ca2HVmCG",
        "outputId": "abc998d5-e2a4-4e38-d2e7-374a98949486"
      },
      "execution_count": null,
      "outputs": [
        {
          "output_type": "stream",
          "name": "stdout",
          "text": [
            "Shopping list: \n",
            "Milk \n",
            "Eggs \n",
            "Bread\n"
          ]
        }
      ]
    },
    {
      "cell_type": "markdown",
      "source": [
        "# **Variables in Python**\n",
        "\n",
        "A variable in Python is like a container that stores data. It gives a name to a value so we can use it later."
      ],
      "metadata": {
        "id": "u9GEc2ljW-jg"
      }
    },
    {
      "cell_type": "code",
      "source": [
        "# In Python, you don't need to declare a variable type (like int or string). Just assign a value to a name.\n",
        "\n",
        "x = 10  # x stores the value 10\n",
        "name = \"Harpal\"  # name stores the text \"Harpal\"\n",
        "\n",
        "print(x)\n",
        "print(name)\n",
        "\n",
        "#Python automatically understands the type of data (int, str, etc.)"
      ],
      "metadata": {
        "colab": {
          "base_uri": "https://localhost:8080/"
        },
        "id": "LBABVQeUWJTc",
        "outputId": "88c91dad-95be-4c5d-cfb0-33ffca4317dc"
      },
      "execution_count": null,
      "outputs": [
        {
          "output_type": "stream",
          "name": "stdout",
          "text": [
            "10\n",
            "Harpal\n"
          ]
        }
      ]
    },
    {
      "cell_type": "markdown",
      "source": [
        "**Rules for Defining Variables:**\n",
        "\n",
        "*   Must start with a letter or an underscore (_) (e.g., name, _value).\n",
        "\n",
        "*  Cannot start with a number (e.g., 2value is not allowed).\n",
        "\n",
        "*   Can contain letters, numbers, and underscores (e.g., value2, total_sum).\n",
        "\n",
        "*   Case-sensitive (e.g., Age and age are different variables).\n",
        "\n",
        "*   Cannot use Python reserved keywords (e.g., for, if, while).\n",
        "\n",
        "\n",
        "\n",
        "\n",
        "\n",
        "\n",
        "\n",
        "\n",
        "\n"
      ],
      "metadata": {
        "id": "P8jPZ0uPXpsF"
      }
    },
    {
      "cell_type": "code",
      "source": [
        "# Valid Variable Names\n",
        "name = \"John\"\n",
        "_age = 25\n",
        "total_price = 99.99\n"
      ],
      "metadata": {
        "id": "0llLn9_uXbAW"
      },
      "execution_count": null,
      "outputs": []
    },
    {
      "cell_type": "code",
      "source": [
        "# Invalid Variable Names (Errors!)\n",
        "2name = \"John\"  # ❌ Cannot start with a number\n",
        "my-name = \"Harpal\"  # ❌ Cannot have a hyphen (-)\n",
        "class = \"Python\"  # ❌ 'class' is a reserved keyword\n"
      ],
      "metadata": {
        "colab": {
          "base_uri": "https://localhost:8080/",
          "height": 106
        },
        "id": "AT-MAhwfYbEK",
        "outputId": "e9ff87c4-2b6c-4c1f-d0d7-3cafe0f376ad"
      },
      "execution_count": null,
      "outputs": [
        {
          "output_type": "error",
          "ename": "SyntaxError",
          "evalue": "invalid decimal literal (<ipython-input-9-b02373f58f2f>, line 2)",
          "traceback": [
            "\u001b[0;36m  File \u001b[0;32m\"<ipython-input-9-b02373f58f2f>\"\u001b[0;36m, line \u001b[0;32m2\u001b[0m\n\u001b[0;31m    2name = \"John\"  # ❌ Cannot start with a number\u001b[0m\n\u001b[0m    ^\u001b[0m\n\u001b[0;31mSyntaxError\u001b[0m\u001b[0;31m:\u001b[0m invalid decimal literal\n"
          ]
        }
      ]
    },
    {
      "cell_type": "markdown",
      "source": [
        "**Multiple Variables in One Line**\n",
        "\n",
        "Python allows multiple assignments in a single line."
      ],
      "metadata": {
        "id": "auZP_MDSYySa"
      }
    },
    {
      "cell_type": "code",
      "source": [
        "# Example 1: Assigning Multiple Values\n",
        "a, b, c = 10, 20, 30\n",
        "print(a, b, c)  # Output: 10 20 30\n"
      ],
      "metadata": {
        "colab": {
          "base_uri": "https://localhost:8080/"
        },
        "id": "8V_gLZT1Yft6",
        "outputId": "6d45956b-73d9-46e0-e835-ad9547391390"
      },
      "execution_count": null,
      "outputs": [
        {
          "output_type": "stream",
          "name": "stdout",
          "text": [
            "10 20 30\n"
          ]
        }
      ]
    },
    {
      "cell_type": "code",
      "source": [
        "#Example 2: Assigning the Same Value to Multiple Variables\n",
        "x = y = z = 100\n",
        "print(x, y, z)  # Output: 100 100 100\n"
      ],
      "metadata": {
        "colab": {
          "base_uri": "https://localhost:8080/"
        },
        "id": "ySab374fY_PN",
        "outputId": "668a9e41-6dce-454d-a3c4-72ab653c8913"
      },
      "execution_count": null,
      "outputs": [
        {
          "output_type": "stream",
          "name": "stdout",
          "text": [
            "100 100 100\n"
          ]
        }
      ]
    },
    {
      "cell_type": "markdown",
      "source": [
        "# **Data Types in Variables**\n",
        "\n",
        "Python variables can store different types of data."
      ],
      "metadata": {
        "id": "tFVpNADdZJhH"
      }
    },
    {
      "cell_type": "code",
      "source": [
        "num = 25  # Integer\n",
        "price = 99.99  # Float\n",
        "name = \"Python\"  # String\n",
        "is_valid = True  # Boolean (True/False)\n",
        "items = [1, 2, 3]  # List\n"
      ],
      "metadata": {
        "id": "CAoyVF2oZDDp"
      },
      "execution_count": null,
      "outputs": []
    },
    {
      "cell_type": "code",
      "source": [
        "#You can check a variable’s type using type().\n",
        "x = 10\n",
        "print(type(x))  # Output: <class 'int'>\n",
        "\n",
        "y = \"Hello\"\n",
        "print(type(y))  # Output: <class 'str'>\n"
      ],
      "metadata": {
        "colab": {
          "base_uri": "https://localhost:8080/"
        },
        "id": "xoeSh8KKZQ0X",
        "outputId": "2515ae90-5e60-4506-cd6b-b034f6e32348"
      },
      "execution_count": null,
      "outputs": [
        {
          "output_type": "stream",
          "name": "stdout",
          "text": [
            "<class 'int'>\n",
            "<class 'str'>\n"
          ]
        }
      ]
    },
    {
      "cell_type": "markdown",
      "source": [
        "**Deleting a Variable**\n",
        "\n",
        "Use del to remove a variable."
      ],
      "metadata": {
        "id": "I7v1DUhYZibm"
      }
    },
    {
      "cell_type": "code",
      "source": [
        "x = 100\n",
        "#del x\n",
        "print(x)  # ❌ Error! x is deleted\n"
      ],
      "metadata": {
        "colab": {
          "base_uri": "https://localhost:8080/"
        },
        "id": "_2UnAEKeZXrN",
        "outputId": "a37054f9-8828-45fd-b24d-08010e8eebcb"
      },
      "execution_count": null,
      "outputs": [
        {
          "output_type": "stream",
          "name": "stdout",
          "text": [
            "100\n"
          ]
        }
      ]
    },
    {
      "cell_type": "code",
      "source": [
        "del x"
      ],
      "metadata": {
        "id": "TZwiGSqeZs7j"
      },
      "execution_count": null,
      "outputs": []
    },
    {
      "cell_type": "code",
      "source": [
        "print(x)"
      ],
      "metadata": {
        "colab": {
          "base_uri": "https://localhost:8080/",
          "height": 141
        },
        "id": "fbbaiPGOZvpf",
        "outputId": "ea253729-72c2-459f-da88-264ae555e9e6"
      },
      "execution_count": null,
      "outputs": [
        {
          "output_type": "error",
          "ename": "NameError",
          "evalue": "name 'x' is not defined",
          "traceback": [
            "\u001b[0;31m---------------------------------------------------------------------------\u001b[0m",
            "\u001b[0;31mNameError\u001b[0m                                 Traceback (most recent call last)",
            "\u001b[0;32m<ipython-input-16-fc17d851ef81>\u001b[0m in \u001b[0;36m<cell line: 0>\u001b[0;34m()\u001b[0m\n\u001b[0;32m----> 1\u001b[0;31m \u001b[0mprint\u001b[0m\u001b[0;34m(\u001b[0m\u001b[0mx\u001b[0m\u001b[0;34m)\u001b[0m\u001b[0;34m\u001b[0m\u001b[0;34m\u001b[0m\u001b[0m\n\u001b[0m",
            "\u001b[0;31mNameError\u001b[0m: name 'x' is not defined"
          ]
        }
      ]
    },
    {
      "cell_type": "markdown",
      "source": [
        "# **Summary Table**\n",
        "\n",
        "**Concept\tExample**\n",
        "\n",
        "* Creating a variable\tx = 5\n",
        "\n",
        "* Reassigning a variable\tx = \"Hello\"\n",
        "\n",
        "* Assigning multiple values\ta, b = 1, 2\n",
        "\n",
        "* Same value for multiple variables\tx = y = 100\n",
        "\n",
        "* Checking data type\ttype(x)\n",
        "\n",
        "* Deleting a variable\tdel x"
      ],
      "metadata": {
        "id": "LAZTBiOCjTT6"
      }
    },
    {
      "cell_type": "markdown",
      "source": [
        "# **input() in Python**\n",
        "\n",
        "The input() function in Python is used to take user input from the keyboard. The input is always received as a string by default."
      ],
      "metadata": {
        "id": "d4ZfYUhObOlJ"
      }
    },
    {
      "cell_type": "code",
      "source": [
        "# The input() function allows the user to type something, and the program stores it in a variable.\n",
        "name = input(\"Enter your name: \")  # Takes input from the user\n",
        "print(\"Hello, \" + name + \"!\")  # Displays output\n"
      ],
      "metadata": {
        "id": "JF5QxZ5ObXyM",
        "colab": {
          "base_uri": "https://localhost:8080/"
        },
        "outputId": "df24a660-40b1-4094-f2b3-b3e0140f7216"
      },
      "execution_count": null,
      "outputs": [
        {
          "output_type": "stream",
          "name": "stdout",
          "text": [
            "Enter your name: Harpal singh armo\n",
            "Hello, Harpal singh armo!\n"
          ]
        }
      ]
    },
    {
      "cell_type": "markdown",
      "source": [
        "**Converting Input to Other Data Types**\n",
        "\n",
        "By default, input() returns a string. If you need a number, convert it using int() or float()."
      ],
      "metadata": {
        "id": "Za_4Dyojb4UX"
      }
    },
    {
      "cell_type": "code",
      "source": [
        "#Example: Taking Integer Input\n",
        "age = input(\"Enter your age: \")\n",
        "age = int(age)  # Convert the input to an integer\n",
        "print(\"You are\", age, \"years old.\")\n"
      ],
      "metadata": {
        "colab": {
          "base_uri": "https://localhost:8080/"
        },
        "id": "q_6Hf4CQbwWM",
        "outputId": "71cfa2cf-dba8-471e-b7fa-fc699cd5d9f9"
      },
      "execution_count": null,
      "outputs": [
        {
          "output_type": "stream",
          "name": "stdout",
          "text": [
            "Enter your age: 27\n",
            "You are 27 years old.\n"
          ]
        }
      ]
    },
    {
      "cell_type": "code",
      "source": [
        "age = input(\"Enter your age: \")\n",
        "age = int(age)  # Convert the input to an integer\n",
        "print(\"Next year you will be \", age+1, \"years old.\")"
      ],
      "metadata": {
        "colab": {
          "base_uri": "https://localhost:8080/"
        },
        "id": "FyD4gI2Hce4L",
        "outputId": "1ed8f472-9ad6-4c37-dbfb-c28edfe6069c"
      },
      "execution_count": null,
      "outputs": [
        {
          "output_type": "stream",
          "name": "stdout",
          "text": [
            "Enter your age: 29\n",
            "Next year you will be  30 years old.\n"
          ]
        }
      ]
    },
    {
      "cell_type": "code",
      "source": [
        "#Example: Taking Float Input\n",
        "price = float(input(\"Enter the price: \"))\n",
        "print(\"Price with tax:\", price * 1.05)  # 5% tax added\n"
      ],
      "metadata": {
        "colab": {
          "base_uri": "https://localhost:8080/"
        },
        "id": "eQHfE3ZNcuze",
        "outputId": "b0659e98-88bf-41f1-a33d-d8e28b5ed618"
      },
      "execution_count": null,
      "outputs": [
        {
          "output_type": "stream",
          "name": "stdout",
          "text": [
            "Enter the price: 77\n",
            "Price with tax: 80.85000000000001\n"
          ]
        }
      ]
    },
    {
      "cell_type": "markdown",
      "source": [
        "**Taking Multiple Inputs**\n",
        "\n",
        "You can take multiple inputs in a single line using .split()."
      ],
      "metadata": {
        "id": "ryVLr2kldEb3"
      }
    },
    {
      "cell_type": "code",
      "source": [
        "#Example: Taking Two Numbers at Once\n",
        "a, b,c = input(\"Enter three numbers: \").split()\n",
        "print(\"First number:\", a)\n",
        "print(\"Second number:\", b)\n",
        "print(\"Third number:\", c)\n"
      ],
      "metadata": {
        "colab": {
          "base_uri": "https://localhost:8080/"
        },
        "id": "lPAjSCMgdAek",
        "outputId": "a008c9c6-64be-4838-d750-21a33b4ff934"
      },
      "execution_count": null,
      "outputs": [
        {
          "output_type": "stream",
          "name": "stdout",
          "text": [
            "Enter two numbers: 24 56 89\n",
            "First number: 24\n",
            "Second number: 56\n",
            "Third number: 89\n"
          ]
        }
      ]
    },
    {
      "cell_type": "code",
      "source": [
        "a, b,c = input(\"Enter three Names: \").split()\n",
        "print(\"First name:\", a)\n",
        "print(\"Second name:\", b)\n",
        "print(\"Third name:\", c)"
      ],
      "metadata": {
        "colab": {
          "base_uri": "https://localhost:8080/"
        },
        "id": "4HXdVJnCdAbB",
        "outputId": "1809f3c9-312f-4024-e181-7eb44412b264"
      },
      "execution_count": null,
      "outputs": [
        {
          "output_type": "stream",
          "name": "stdout",
          "text": [
            "Enter three Names: Harpal Priyanka Ranju\n",
            "First name: Harpal\n",
            "Second name: Priyanka\n",
            "Third name: Ranju\n"
          ]
        }
      ]
    },
    {
      "cell_type": "code",
      "source": [
        "a, b,c = input(\"Enter three city Names: \").split()\n",
        "print(\"First name:\", a)\n",
        "print(\"Second name:\", b)\n",
        "print(\"Third name:\", c)"
      ],
      "metadata": {
        "colab": {
          "base_uri": "https://localhost:8080/"
        },
        "id": "S_bTDV92dAZS",
        "outputId": "2b785797-f8fe-46cb-ed07-b89edd6c280b"
      },
      "execution_count": null,
      "outputs": [
        {
          "output_type": "stream",
          "name": "stdout",
          "text": [
            "Enter three city Names: Bhopal Indore Jabalpur\n",
            "First name: Bhopal\n",
            "Second name: Indore\n",
            "Third name: Jabalpur\n"
          ]
        }
      ]
    },
    {
      "cell_type": "markdown",
      "source": [
        "**Taking Multiple Inputs and Converting Them**\n",
        "\n",
        "If you want to convert the inputs to numbers, use map()."
      ],
      "metadata": {
        "id": "jAQpKxUveZVE"
      }
    },
    {
      "cell_type": "code",
      "source": [
        "# Example: Converting to Integers\n",
        "\n",
        "a, b, x, y, z = map(int, input(\"Enter five numbers: \").split())\n",
        "print(\"Sum:\", a + b + x + y + z)\n",
        "print(type(a), type(b), type(x), type(y), type(z))  # Call type() for each variable separately\n",
        "\n",
        "# map(int, input().split()) converts inputs to integers before assigning them to x and y."
      ],
      "metadata": {
        "colab": {
          "base_uri": "https://localhost:8080/"
        },
        "id": "7Mc4wNISdAXc",
        "outputId": "78c2b9a6-bc1e-46c6-88e0-0158abe126a2"
      },
      "execution_count": null,
      "outputs": [
        {
          "output_type": "stream",
          "name": "stdout",
          "text": [
            "Enter five numbers: 3 4 5 6 7 \n",
            "Sum: 25\n",
            "<class 'int'> <class 'int'> <class 'int'> <class 'int'> <class 'int'>\n"
          ]
        }
      ]
    },
    {
      "cell_type": "markdown",
      "source": [
        "**Changing the Separator in .split()**\n",
        "\n",
        "By default, .split() separates input based on spaces. You can change it."
      ],
      "metadata": {
        "id": "J8kiPwKjgIOr"
      }
    },
    {
      "cell_type": "code",
      "source": [
        "#Example: Taking Comma-Separated Input\n",
        "\n",
        "name, age, address = input(\"Enter your name,age and address (comma-separated): \").split(\",\")\n",
        "print(\"Name:\", name)\n",
        "print(\"Age:\", age)\n",
        "print(\"address:\", address)\n",
        "#The split(\",\") separates input based on commas."
      ],
      "metadata": {
        "colab": {
          "base_uri": "https://localhost:8080/"
        },
        "id": "PuTwsvQKdAU_",
        "outputId": "bcb6a88b-07a0-4d03-e2af-c275be64133e"
      },
      "execution_count": null,
      "outputs": [
        {
          "output_type": "stream",
          "name": "stdout",
          "text": [
            "Enter your name,age and address (comma-separated): Harpal , 29 , london\n",
            "Name: Harpal \n",
            "Age:  29 \n",
            "address:  london\n"
          ]
        }
      ]
    },
    {
      "cell_type": "markdown",
      "source": [
        "**Using strip() to Remove Extra Spaces**\n",
        "\n",
        "If the user accidentally adds extra spaces, strip() removes them."
      ],
      "metadata": {
        "id": "Dc6Atzp2g5II"
      }
    },
    {
      "cell_type": "code",
      "source": [
        "name = input(\"Enter your name: \")#.strip() # without strip\n",
        "print(\"Hello,\", name)\n"
      ],
      "metadata": {
        "colab": {
          "base_uri": "https://localhost:8080/"
        },
        "id": "CpZn5Bu0dATD",
        "outputId": "22a54d4e-9018-40e9-bb8e-500271a6b634"
      },
      "execution_count": null,
      "outputs": [
        {
          "output_type": "stream",
          "name": "stdout",
          "text": [
            "Enter your name:     harpal\n",
            "Hello,     harpal\n"
          ]
        }
      ]
    },
    {
      "cell_type": "code",
      "source": [
        "name = input(\"Enter your name: \").strip() # with strip\n",
        "print(\"Hello,\", name)\n"
      ],
      "metadata": {
        "colab": {
          "base_uri": "https://localhost:8080/"
        },
        "id": "VDFLXbrOdARP",
        "outputId": "ff37fbb2-31d0-40e6-8f07-5f055caa87f7"
      },
      "execution_count": null,
      "outputs": [
        {
          "output_type": "stream",
          "name": "stdout",
          "text": [
            "Enter your name:        Harpal\n",
            "Hello, Harpal\n"
          ]
        }
      ]
    },
    {
      "cell_type": "markdown",
      "source": [
        "**Taking Secure Input Using getpass (For Passwords)**\n",
        "\n",
        "If you want to hide the user’s input (like a password), use getpass()."
      ],
      "metadata": {
        "id": "UaB9j3aIiXGu"
      }
    },
    {
      "cell_type": "code",
      "source": [
        "password = input(\"Enter your password: \")\n",
        "print(\"Password received!\")  # Shows the password"
      ],
      "metadata": {
        "colab": {
          "base_uri": "https://localhost:8080/"
        },
        "id": "3LYuWAyxik5t",
        "outputId": "7ea49ec4-4f8c-49cf-dd19-e62956481b83"
      },
      "execution_count": null,
      "outputs": [
        {
          "output_type": "stream",
          "name": "stdout",
          "text": [
            "Enter your password: Harpal@1799\n",
            "Password received!\n"
          ]
        }
      ]
    },
    {
      "cell_type": "code",
      "source": [
        "import getpass\n",
        "password = getpass.getpass(\"Enter your password: \")\n",
        "print(\"Thank you your Password has received!\")  # Doesn't show the password\n",
        "#The password is not displayed when typed."
      ],
      "metadata": {
        "colab": {
          "base_uri": "https://localhost:8080/"
        },
        "id": "Hr_dOFladAO4",
        "outputId": "b50e3c2d-0a7a-4e16-ce5b-2f2ee01a8f7a"
      },
      "execution_count": null,
      "outputs": [
        {
          "output_type": "stream",
          "name": "stdout",
          "text": [
            "Enter your password: ··········\n",
            "Thank you your Password has received!\n"
          ]
        }
      ]
    },
    {
      "cell_type": "markdown",
      "source": [
        "**Key Takeaways**\n",
        "\n",
        "✅ input() always returns a string, so convert it if needed.\n",
        "\n",
        "✅ Use split() for multiple inputs and map() for conversion.\n",
        "\n",
        "✅ Use strip() to remove extra spaces.\n",
        "\n",
        "✅ Use getpass() for hidden password input."
      ],
      "metadata": {
        "id": "IHVbcAzbjHBW"
      }
    }
  ]
}