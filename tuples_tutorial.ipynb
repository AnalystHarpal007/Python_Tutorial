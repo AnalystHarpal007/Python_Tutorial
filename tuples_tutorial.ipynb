{
  "nbformat": 4,
  "nbformat_minor": 0,
  "metadata": {
    "colab": {
      "provenance": [],
      "authorship_tag": "ABX9TyNxb9e8fBtBa+b2aEBuHJGZ",
      "include_colab_link": true
    },
    "kernelspec": {
      "name": "python3",
      "display_name": "Python 3"
    },
    "language_info": {
      "name": "python"
    }
  },
  "cells": [
    {
      "cell_type": "markdown",
      "metadata": {
        "id": "view-in-github",
        "colab_type": "text"
      },
      "source": [
        "<a href=\"https://colab.research.google.com/github/AnalystHarpal007/Python_Tutorial/blob/main/tuples_tutorial.ipynb\" target=\"_parent\"><img src=\"https://colab.research.google.com/assets/colab-badge.svg\" alt=\"Open In Colab\"/></a>"
      ]
    },
    {
      "cell_type": "markdown",
      "source": [
        "# **Python Tuples Tutorials**\n",
        "\n",
        "A tuple is an immutable, ordered collection of elements in Python. Once created, its elements cannot be modified, added, or removed. Tuples are commonly used to store heterogeneous data and are defined using parentheses ( ) or just commas."
      ],
      "metadata": {
        "id": "EZNT9ME2A7TZ"
      }
    },
    {
      "cell_type": "markdown",
      "source": [
        "**Key Features**\n",
        "\n",
        "**Immutable**: Tuples cannot be changed after creation.\n",
        "\n",
        "**Ordered**: Elements retain their order.\n",
        "\n",
        "**Can store heterogeneous data:** Elements can be of different types (e.g., integers, strings, floats).\n",
        "\n",
        "**Efficient**: Tuples are faster than lists for iteration and access."
      ],
      "metadata": {
        "id": "zmhs8UhBBI8J"
      }
    },
    {
      "cell_type": "markdown",
      "source": [
        "**Syntax of Tuples**\n",
        "\n",
        "A tuple is created using parentheses () and can contain different data types."
      ],
      "metadata": {
        "id": "qS8TzAsIBUbw"
      }
    },
    {
      "cell_type": "code",
      "execution_count": null,
      "metadata": {
        "colab": {
          "base_uri": "https://localhost:8080/"
        },
        "id": "dHIeOhS28kw0",
        "outputId": "cbf99e47-bc21-4a3c-f62d-4e107896b8d2"
      },
      "outputs": [
        {
          "output_type": "stream",
          "name": "stdout",
          "text": [
            "(1, 2, 3, 4, 5)\n",
            "(10, 'Hello', 3.14, True)\n"
          ]
        }
      ],
      "source": [
        "# Creating a tuple\n",
        "my_tuple = (1, 2, 3, 4, 5)\n",
        "print(my_tuple)  # Output: (1, 2, 3, 4, 5)\n",
        "\n",
        "# Tuple with mixed data types\n",
        "mixed_tuple = (10, \"Hello\", 3.14, True)\n",
        "print(mixed_tuple)  # Output: (10, 'Hello', 3.14, True)\n"
      ]
    },
    {
      "cell_type": "code",
      "source": [
        "# Accessing elements using index\n",
        "tuple1 = (\"apple\", \"banana\", \"cherry\")\n",
        "print(tuple1[0])  # Output: apple\n",
        "print(tuple1[-1])  # Output: cherry\n"
      ],
      "metadata": {
        "colab": {
          "base_uri": "https://localhost:8080/"
        },
        "id": "ohJdriUVBXkf",
        "outputId": "90e54ca3-58ce-441f-9db3-4784486b7767"
      },
      "execution_count": null,
      "outputs": [
        {
          "output_type": "stream",
          "name": "stdout",
          "text": [
            "apple\n",
            "cherry\n"
          ]
        }
      ]
    },
    {
      "cell_type": "markdown",
      "source": [
        "**Single Element Tuple**\n",
        "\n",
        "For a single element, you must include a comma after the value."
      ],
      "metadata": {
        "id": "ITk1sV4KBj74"
      }
    },
    {
      "cell_type": "code",
      "source": [
        "single_tuple = (5,)  # Note the comma\n",
        "print(single_tuple)  # Output: (5,)\n"
      ],
      "metadata": {
        "colab": {
          "base_uri": "https://localhost:8080/"
        },
        "id": "zpNuRoGoBcq-",
        "outputId": "3e9ad3b3-623b-43f2-8111-3760dc1a7a50"
      },
      "execution_count": null,
      "outputs": [
        {
          "output_type": "stream",
          "name": "stdout",
          "text": [
            "(5,)\n"
          ]
        }
      ]
    },
    {
      "cell_type": "markdown",
      "source": [
        "**Tuple Without Parentheses (Packing)**"
      ],
      "metadata": {
        "id": "mvdTbV4ZBpYD"
      }
    },
    {
      "cell_type": "code",
      "source": [
        "packed_tuple = \"red\", \"green\", \"blue\"\n",
        "print(packed_tuple)  # Output: ('red', 'green', 'blue')\n"
      ],
      "metadata": {
        "colab": {
          "base_uri": "https://localhost:8080/"
        },
        "id": "E7gIfgwPBnNO",
        "outputId": "624a6ad3-38c0-4a16-bf89-789519858d1d"
      },
      "execution_count": null,
      "outputs": [
        {
          "output_type": "stream",
          "name": "stdout",
          "text": [
            "('red', 'green', 'blue')\n"
          ]
        }
      ]
    },
    {
      "cell_type": "markdown",
      "source": [
        "**Tuple from an Iterable**"
      ],
      "metadata": {
        "id": "mdON5oyIBv1r"
      }
    },
    {
      "cell_type": "code",
      "source": [
        "tuple_from_list = tuple([1, 2, 3])\n",
        "print(tuple_from_list)  # Output: (1, 2, 3)\n"
      ],
      "metadata": {
        "colab": {
          "base_uri": "https://localhost:8080/"
        },
        "id": "59amQPafBroA",
        "outputId": "b0fe4e8d-a0e2-411d-abde-375918ca12f2"
      },
      "execution_count": null,
      "outputs": [
        {
          "output_type": "stream",
          "name": "stdout",
          "text": [
            "(1, 2, 3)\n"
          ]
        }
      ]
    },
    {
      "cell_type": "markdown",
      "source": [
        "# **Tuple Indexing and Slicing**"
      ],
      "metadata": {
        "id": "jBn0ZHA1B1JQ"
      }
    },
    {
      "cell_type": "markdown",
      "source": [
        "**Indexing**"
      ],
      "metadata": {
        "id": "wf_w3JN-B8dV"
      }
    },
    {
      "cell_type": "code",
      "source": [
        "colors = (\"red\", \"blue\", \"green\")\n",
        "print(colors[1])  # Output: blue\n",
        "print(colors[-1])  # Output: green\n"
      ],
      "metadata": {
        "colab": {
          "base_uri": "https://localhost:8080/"
        },
        "id": "YK3hnyloBx4B",
        "outputId": "8060d4ac-245c-4563-ac79-1ec4b57d2488"
      },
      "execution_count": null,
      "outputs": [
        {
          "output_type": "stream",
          "name": "stdout",
          "text": [
            "blue\n",
            "green\n"
          ]
        }
      ]
    },
    {
      "cell_type": "markdown",
      "source": [
        "**Slicing**"
      ],
      "metadata": {
        "id": "EyH236fPCAp-"
      }
    },
    {
      "cell_type": "code",
      "source": [
        "nums = (0, 1, 2, 3, 4, 5)\n",
        "print(nums[1:4])  # Output: (1, 2, 3)\n",
        "print(nums[:3])   # Output: (0, 1, 2)\n",
        "print(nums[::2])  # Output: (0, 2, 4)\n"
      ],
      "metadata": {
        "colab": {
          "base_uri": "https://localhost:8080/"
        },
        "id": "6voTP6uJB-oZ",
        "outputId": "bf098c9a-dd5c-4708-fd02-453b0aade96b"
      },
      "execution_count": null,
      "outputs": [
        {
          "output_type": "stream",
          "name": "stdout",
          "text": [
            "(1, 2, 3)\n",
            "(0, 1, 2)\n",
            "(0, 2, 4)\n"
          ]
        }
      ]
    },
    {
      "cell_type": "markdown",
      "source": [
        "# **Tuple Operations**"
      ],
      "metadata": {
        "id": "EHGV0XmICFHn"
      }
    },
    {
      "cell_type": "markdown",
      "source": [
        "**a) Concatenation**"
      ],
      "metadata": {
        "id": "jLTYHtVkCH-b"
      }
    },
    {
      "cell_type": "code",
      "source": [
        "tuple1 = (1, 2, 3)\n",
        "tuple2 = (4, 5, 6)\n",
        "new_tuple = tuple1 + tuple2\n",
        "print(new_tuple)  # Output: (1, 2, 3, 4, 5, 6)\n"
      ],
      "metadata": {
        "colab": {
          "base_uri": "https://localhost:8080/"
        },
        "id": "KsmSicbdCCxl",
        "outputId": "91d54338-2da5-4f74-dae2-bb8d9bb48a1c"
      },
      "execution_count": null,
      "outputs": [
        {
          "output_type": "stream",
          "name": "stdout",
          "text": [
            "(1, 2, 3, 4, 5, 6)\n"
          ]
        }
      ]
    },
    {
      "cell_type": "markdown",
      "source": [
        "**b) Repetition**"
      ],
      "metadata": {
        "id": "ISmZNb-TCL9Q"
      }
    },
    {
      "cell_type": "code",
      "source": [
        "repeat_tuple = (\"Python\",) * 3\n",
        "print(repeat_tuple)  # Output: ('Python', 'Python', 'Python')\n"
      ],
      "metadata": {
        "colab": {
          "base_uri": "https://localhost:8080/"
        },
        "id": "txMNg3-vCKOg",
        "outputId": "049a3818-ecc6-4f58-b7f3-11eac313c480"
      },
      "execution_count": null,
      "outputs": [
        {
          "output_type": "stream",
          "name": "stdout",
          "text": [
            "('Python', 'Python', 'Python')\n"
          ]
        }
      ]
    },
    {
      "cell_type": "markdown",
      "source": [
        "**c) Membership Check**"
      ],
      "metadata": {
        "id": "AAB_iPpsCQY2"
      }
    },
    {
      "cell_type": "markdown",
      "source": [
        "# **Tuple Methods**"
      ],
      "metadata": {
        "id": "XrBWRBAzCYf_"
      }
    },
    {
      "cell_type": "markdown",
      "source": [
        "**a) count() – Count Occurrences**"
      ],
      "metadata": {
        "id": "FXwbkYziCbiD"
      }
    },
    {
      "cell_type": "code",
      "source": [
        "num_tuple = (1, 2, 2, 3, 2, 4)\n",
        "print(num_tuple.count(2))  # Output: 3\n"
      ],
      "metadata": {
        "colab": {
          "base_uri": "https://localhost:8080/"
        },
        "id": "NdUQlh74COG_",
        "outputId": "b4a9b023-04d2-473e-bbe3-f9c6f3e65d74"
      },
      "execution_count": null,
      "outputs": [
        {
          "output_type": "stream",
          "name": "stdout",
          "text": [
            "3\n"
          ]
        }
      ]
    },
    {
      "cell_type": "markdown",
      "source": [
        "**b) index() – Find First Occurrence**"
      ],
      "metadata": {
        "id": "DILkd2OfCfXs"
      }
    },
    {
      "cell_type": "code",
      "source": [
        "names = (\"Alice\", \"Bob\", \"Charlie\", \"Bob\")\n",
        "print(names.index(\"Bob\"))  # Output: 1\n"
      ],
      "metadata": {
        "colab": {
          "base_uri": "https://localhost:8080/"
        },
        "id": "WCc9WKGYCdsq",
        "outputId": "634a33b5-bf7f-43e2-dc21-467868005b6a"
      },
      "execution_count": null,
      "outputs": [
        {
          "output_type": "stream",
          "name": "stdout",
          "text": [
            "1\n"
          ]
        }
      ]
    },
    {
      "cell_type": "markdown",
      "source": [
        "# **Tuple Unpacking**"
      ],
      "metadata": {
        "id": "_zL6Z9VbCnv3"
      }
    },
    {
      "cell_type": "markdown",
      "source": [
        "Unpacking allows assigning tuple elements to multiple variables."
      ],
      "metadata": {
        "id": "9jjmW51ICqlR"
      }
    },
    {
      "cell_type": "code",
      "source": [
        "person = (\"John\", 25, \"Engineer\")\n",
        "name, age, profession = person\n",
        "print(name)  # Output: John\n",
        "print(age)   # Output: 25\n",
        "print(profession)  # Output: Engineer\n"
      ],
      "metadata": {
        "colab": {
          "base_uri": "https://localhost:8080/"
        },
        "id": "Zp6zRSIYChs_",
        "outputId": "1f2673e3-2564-4472-dcc6-8898240b9089"
      },
      "execution_count": null,
      "outputs": [
        {
          "output_type": "stream",
          "name": "stdout",
          "text": [
            "John\n",
            "25\n",
            "Engineer\n"
          ]
        }
      ]
    },
    {
      "cell_type": "markdown",
      "source": [
        "Using * for Variable-Length Unpacking"
      ],
      "metadata": {
        "id": "C3ApF5rIC0ss"
      }
    },
    {
      "cell_type": "code",
      "source": [
        "numbers = (1, 2, 3, 4, 5)\n",
        "first, *middle, last = numbers\n",
        "print(first)  # Output: 1\n",
        "print(middle)  # Output: [2, 3, 4]\n",
        "print(last)  # Output: 5\n"
      ],
      "metadata": {
        "colab": {
          "base_uri": "https://localhost:8080/"
        },
        "id": "WIeRGD6oCs4n",
        "outputId": "7bbcb9b2-0c17-4dcf-9aa0-340cbe706c57"
      },
      "execution_count": null,
      "outputs": [
        {
          "output_type": "stream",
          "name": "stdout",
          "text": [
            "1\n",
            "[2, 3, 4]\n",
            "5\n"
          ]
        }
      ]
    },
    {
      "cell_type": "markdown",
      "source": [
        "# **When to Use Tuples Over Lists?**\n",
        "\n",
        "When data should not be modified (immutability).\n",
        "\n",
        "Tuples use less memory and are faster than lists.\n",
        "\n",
        "When working with dictionary keys, as tuples are hashable."
      ],
      "metadata": {
        "id": "GSit8Gv8C7Ty"
      }
    },
    {
      "cell_type": "markdown",
      "source": [
        "## **Hands-on Practice Questions**\n",
        "\n",
        "Try these problems to solidify your understanding:"
      ],
      "metadata": {
        "id": "DCOE13ANDBBH"
      }
    },
    {
      "cell_type": "code",
      "source": [
        "#Q1: Reverse a Tuple\n",
        "#Write a program to reverse a tuple without using loops.\n",
        "tup = (10, 20, 30, 40, 50)\n",
        "print(tup[::-1])  # Output: (50, 40, 30, 20, 10)\n"
      ],
      "metadata": {
        "colab": {
          "base_uri": "https://localhost:8080/"
        },
        "id": "1bQwzoOfC2lW",
        "outputId": "4d7e6cdc-3daa-4d90-8d92-c7be8dfa2127"
      },
      "execution_count": null,
      "outputs": [
        {
          "output_type": "stream",
          "name": "stdout",
          "text": [
            "(50, 40, 30, 20, 10)\n"
          ]
        }
      ]
    },
    {
      "cell_type": "code",
      "source": [
        "#Q2: Convert a Tuple to a String\n",
        "\n",
        "tup = ('P', 'y', 't', 'h', 'o', 'n')\n",
        "print(\"\".join(tup))  # Output: Python\n"
      ],
      "metadata": {
        "colab": {
          "base_uri": "https://localhost:8080/"
        },
        "id": "7zM0TjlwDPcA",
        "outputId": "c68510f3-6d0e-4974-e86e-dfd691868354"
      },
      "execution_count": null,
      "outputs": [
        {
          "output_type": "stream",
          "name": "stdout",
          "text": [
            "Python\n"
          ]
        }
      ]
    },
    {
      "cell_type": "code",
      "source": [
        "# Q3: Find the Maximum and Minimum Element in a Tuple\n",
        "nums = (15, 8, 20, 30, 10)\n",
        "print(max(nums))  # Output: 30\n",
        "print(min(nums))  # Output: 8\n"
      ],
      "metadata": {
        "colab": {
          "base_uri": "https://localhost:8080/"
        },
        "id": "oI4Mc1P9DcH4",
        "outputId": "4183dddf-21e1-4fdd-c66e-31b77f093275"
      },
      "execution_count": null,
      "outputs": [
        {
          "output_type": "stream",
          "name": "stdout",
          "text": [
            "30\n",
            "8\n"
          ]
        }
      ]
    },
    {
      "cell_type": "code",
      "source": [
        "#Q4: Remove Duplicates from a Tuple\n",
        "tup = (1, 2, 3, 1, 2, 4, 5)\n",
        "unique_tup = tuple(set(tup))\n",
        "print(unique_tup)  # Output: (1, 2, 3, 4, 5)\n"
      ],
      "metadata": {
        "colab": {
          "base_uri": "https://localhost:8080/"
        },
        "id": "gbBUE7ldDi_C",
        "outputId": "97ad3493-a27e-4609-ee23-b26b2d270b86"
      },
      "execution_count": null,
      "outputs": [
        {
          "output_type": "stream",
          "name": "stdout",
          "text": [
            "(1, 2, 3, 4, 5)\n"
          ]
        }
      ]
    },
    {
      "cell_type": "code",
      "source": [],
      "metadata": {
        "id": "dnQIZzvADoOm"
      },
      "execution_count": null,
      "outputs": []
    }
  ]
}