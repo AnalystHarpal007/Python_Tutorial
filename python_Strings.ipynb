{
  "nbformat": 4,
  "nbformat_minor": 0,
  "metadata": {
    "colab": {
      "provenance": [],
      "authorship_tag": "ABX9TyO/zx2XIrT1nB030XjLAnGA",
      "include_colab_link": true
    },
    "kernelspec": {
      "name": "python3",
      "display_name": "Python 3"
    },
    "language_info": {
      "name": "python"
    }
  },
  "cells": [
    {
      "cell_type": "markdown",
      "metadata": {
        "id": "view-in-github",
        "colab_type": "text"
      },
      "source": [
        "<a href=\"https://colab.research.google.com/github/AnalystHarpal007/Python_Tutorial/blob/main/python_Strings.ipynb\" target=\"_parent\"><img src=\"https://colab.research.google.com/assets/colab-badge.svg\" alt=\"Open In Colab\"/></a>"
      ]
    },
    {
      "cell_type": "markdown",
      "source": [
        "# **Python Strings**\n",
        "\n",
        "Strings are one of the most important data types in Python. They store text and are immutable (cannot be changed after creation). Let's dive deep into string operations, methods, formatting, and advanced tricks! 🔥"
      ],
      "metadata": {
        "id": "_jbmkdxk1iBm"
      }
    },
    {
      "cell_type": "markdown",
      "source": [
        "Strings in python are surrounded by either single quotation marks, or double quotation marks.\n",
        "\n",
        "'hello' is the same as \"hello\"."
      ],
      "metadata": {
        "id": "9ZcOjupe2PLp"
      }
    },
    {
      "cell_type": "code",
      "execution_count": null,
      "metadata": {
        "colab": {
          "base_uri": "https://localhost:8080/"
        },
        "id": "XQigB7wh0Hfa",
        "outputId": "43792d30-8fc1-4480-988b-a964826b5454"
      },
      "outputs": [
        {
          "output_type": "stream",
          "name": "stdout",
          "text": [
            "Hello Python\n"
          ]
        }
      ],
      "source": [
        "x = 'Hello'\n",
        "\n",
        "y = 'Python'\n",
        "\n",
        "print(x + ' ' + y)"
      ]
    },
    {
      "cell_type": "code",
      "source": [
        "x = 'Welcome to my python journey:'\n",
        "name = 'Harpal'\n",
        "print(x + ' ' + name)\n",
        "\n",
        "x.upper()\n",
        "name.lower()"
      ],
      "metadata": {
        "colab": {
          "base_uri": "https://localhost:8080/",
          "height": 53
        },
        "id": "f3JoVkZX2kD4",
        "outputId": "663a22ba-ed27-437b-e17b-511ef148eb9c"
      },
      "execution_count": null,
      "outputs": [
        {
          "output_type": "stream",
          "name": "stdout",
          "text": [
            "Welcome to my python journey: Harpal\n"
          ]
        },
        {
          "output_type": "execute_result",
          "data": {
            "text/plain": [
              "'harpal'"
            ],
            "application/vnd.google.colaboratory.intrinsic+json": {
              "type": "string"
            }
          },
          "metadata": {},
          "execution_count": 5
        }
      ]
    },
    {
      "cell_type": "code",
      "source": [
        "name = 'Harpal'\n",
        "\n",
        "print(name * 5)"
      ],
      "metadata": {
        "colab": {
          "base_uri": "https://localhost:8080/"
        },
        "id": "eiH1kLlv8cdl",
        "outputId": "7fd97344-a89a-4272-ba27-277fa12ee145"
      },
      "execution_count": null,
      "outputs": [
        {
          "output_type": "stream",
          "name": "stdout",
          "text": [
            "HarpalHarpalHarpalHarpalHarpal\n"
          ]
        }
      ]
    },
    {
      "cell_type": "code",
      "source": [
        "x = \"My name is Harpal Singh\"\n",
        "print(x)\n",
        "\n",
        "print(f'New Name :{x.replace(\"Singh\", \"Armo\")}')"
      ],
      "metadata": {
        "colab": {
          "base_uri": "https://localhost:8080/"
        },
        "id": "EwyjR1P05x5o",
        "outputId": "108f4c07-e641-443e-889f-5262bec43893"
      },
      "execution_count": null,
      "outputs": [
        {
          "output_type": "stream",
          "name": "stdout",
          "text": [
            "My name is Harpal Singh\n",
            "New Name :My name is Harpal Armo\n"
          ]
        }
      ]
    },
    {
      "cell_type": "code",
      "source": [
        "x = \"My name is Harpal Singh\"\n",
        "print(x)\n",
        "\n",
        "x.find('g')\n"
      ],
      "metadata": {
        "colab": {
          "base_uri": "https://localhost:8080/"
        },
        "id": "M7dtY5P46rSN",
        "outputId": "e638b674-764a-4610-bc0c-37e45dcb4629"
      },
      "execution_count": null,
      "outputs": [
        {
          "output_type": "stream",
          "name": "stdout",
          "text": [
            "My name is Harpal Singh\n"
          ]
        },
        {
          "output_type": "execute_result",
          "data": {
            "text/plain": [
              "21"
            ]
          },
          "metadata": {},
          "execution_count": 25
        }
      ]
    },
    {
      "cell_type": "code",
      "source": [
        "x[-1]"
      ],
      "metadata": {
        "colab": {
          "base_uri": "https://localhost:8080/",
          "height": 36
        },
        "id": "hpdOxO157tU3",
        "outputId": "6fd812ed-c500-4bb8-aeac-f983882e1ecb"
      },
      "execution_count": null,
      "outputs": [
        {
          "output_type": "execute_result",
          "data": {
            "text/plain": [
              "'h'"
            ],
            "application/vnd.google.colaboratory.intrinsic+json": {
              "type": "string"
            }
          },
          "metadata": {},
          "execution_count": 17
        }
      ]
    },
    {
      "cell_type": "code",
      "source": [
        "#strip()\n",
        "print(len(\"hi harpal  \"))"
      ],
      "metadata": {
        "colab": {
          "base_uri": "https://localhost:8080/"
        },
        "id": "ctDWCXXc8N_L",
        "outputId": "6b7579a8-201c-4bf8-e411-b7c6a5714e48"
      },
      "execution_count": null,
      "outputs": [
        {
          "output_type": "stream",
          "name": "stdout",
          "text": [
            "11\n"
          ]
        }
      ]
    },
    {
      "cell_type": "code",
      "source": [
        "x = \"hi harpal  \"\n",
        "print(len(x))"
      ],
      "metadata": {
        "colab": {
          "base_uri": "https://localhost:8080/"
        },
        "id": "j_o1io2j81hq",
        "outputId": "fa411434-9692-4b1f-b38e-9d41812549ab"
      },
      "execution_count": null,
      "outputs": [
        {
          "output_type": "stream",
          "name": "stdout",
          "text": [
            "11\n"
          ]
        }
      ]
    },
    {
      "cell_type": "code",
      "source": [
        "#len()\n",
        "x = \"hi harpal  \"\n",
        "print(len(x.strip()))"
      ],
      "metadata": {
        "colab": {
          "base_uri": "https://localhost:8080/"
        },
        "id": "gazelGoD899g",
        "outputId": "96b1545c-9c3e-4c9c-8807-f92ed826e673"
      },
      "execution_count": null,
      "outputs": [
        {
          "output_type": "stream",
          "name": "stdout",
          "text": [
            "9\n"
          ]
        }
      ]
    },
    {
      "cell_type": "code",
      "source": [
        "#count()\n",
        "x = \"hi harpal  \"\n",
        "print(x.count('a'))"
      ],
      "metadata": {
        "colab": {
          "base_uri": "https://localhost:8080/"
        },
        "id": "8oNuXy6Q9B3-",
        "outputId": "767648ba-9cc8-4559-dc34-e70cd2057714"
      },
      "execution_count": null,
      "outputs": [
        {
          "output_type": "stream",
          "name": "stdout",
          "text": [
            "2\n"
          ]
        }
      ]
    },
    {
      "cell_type": "code",
      "source": [
        "#split()\n",
        "x = \"hi ,harpal  \"\n",
        "print(x.split(\",\"))"
      ],
      "metadata": {
        "colab": {
          "base_uri": "https://localhost:8080/"
        },
        "id": "UO_vfezI9Ti-",
        "outputId": "47f9b7f0-3358-4d2c-8dd9-82ad7ffbaa48"
      },
      "execution_count": null,
      "outputs": [
        {
          "output_type": "stream",
          "name": "stdout",
          "text": [
            "['hi ', 'harpal  ']\n"
          ]
        }
      ]
    },
    {
      "cell_type": "markdown",
      "source": [
        "**1.Accessing Characters in a String 🎯**\n",
        "\n",
        "Strings are indexed in Python, meaning you can access specific characters."
      ],
      "metadata": {
        "id": "mnuCy1G191VS"
      }
    },
    {
      "cell_type": "code",
      "source": [
        "text = \"Python\"\n",
        "\n",
        "print(text[0])   # Output: P\n",
        "print(text[2])   # Output: t\n",
        "print(text[-1])  # Output: n (Negative index)\n"
      ],
      "metadata": {
        "colab": {
          "base_uri": "https://localhost:8080/"
        },
        "id": "ckH5pRLN9WHw",
        "outputId": "33b57eb1-fc8b-48ee-ad4b-178b1f223301"
      },
      "execution_count": null,
      "outputs": [
        {
          "output_type": "stream",
          "name": "stdout",
          "text": [
            "P\n",
            "t\n",
            "n\n"
          ]
        }
      ]
    },
    {
      "cell_type": "markdown",
      "source": [
        "**2.Slicing Strings 🍕**\n",
        "\n",
        "Extracting parts of a string using start:stop:step syntax."
      ],
      "metadata": {
        "id": "bSyzwvrA9_mn"
      }
    },
    {
      "cell_type": "code",
      "source": [
        "name = \"Harpal, London!\"\n",
        "\n",
        "print(name[0:5])   # Output: Harpa (characters from index 0 to 4)\n",
        "print(name[:5])    # Output: Harpa (same as above)\n",
        "print(name[7:])    # Output: London! (from index 7 to end)\n",
        "print(name[::2])   # Output: Hra,Lno ! (every 2nd character)\n",
        "print(name[::-1])  # Output: !nodnoL ,lapraH (Reversing a string)\n"
      ],
      "metadata": {
        "colab": {
          "base_uri": "https://localhost:8080/"
        },
        "id": "7cfi48E097mY",
        "outputId": "cb7d8dcd-7490-433a-c534-e3284f03f570"
      },
      "execution_count": null,
      "outputs": [
        {
          "output_type": "stream",
          "name": "stdout",
          "text": [
            "Harpa\n",
            "Harpa\n",
            " London!\n",
            "Hra,Lno!\n",
            "!nodnoL ,lapraH\n"
          ]
        }
      ]
    },
    {
      "cell_type": "markdown",
      "source": [
        "**3.String Concatenation & Repetition 🔗**\n",
        "\n",
        "Joining and repeating strings."
      ],
      "metadata": {
        "id": "1RJvw6cK_A_2"
      }
    },
    {
      "cell_type": "code",
      "source": [
        "first = \"Harpal\"\n",
        "second = \"Singh\"\n",
        "\n",
        "print(first + \" \" + second)  # Output: Hello World (Concatenation)\n",
        "print(first * 3)  # Output: HelloHelloHello (Repetition)\n",
        "first.upper()\n",
        "\n"
      ],
      "metadata": {
        "colab": {
          "base_uri": "https://localhost:8080/",
          "height": 70
        },
        "id": "JdTMjzxq-hCF",
        "outputId": "23219f34-ed30-4f19-eae5-f3999a940710"
      },
      "execution_count": null,
      "outputs": [
        {
          "output_type": "stream",
          "name": "stdout",
          "text": [
            "Harpal Singh\n",
            "HarpalHarpalHarpal\n"
          ]
        },
        {
          "output_type": "execute_result",
          "data": {
            "text/plain": [
              "'HARPAL'"
            ],
            "application/vnd.google.colaboratory.intrinsic+json": {
              "type": "string"
            }
          },
          "metadata": {},
          "execution_count": 32
        }
      ]
    },
    {
      "cell_type": "markdown",
      "source": [
        "**4.String Methods 🛠️**\n",
        "\n",
        "Python provides many built-in string functions."
      ],
      "metadata": {
        "id": "91ClNJl__qF0"
      }
    },
    {
      "cell_type": "code",
      "source": [
        "text = \"python programming\"\n",
        "\n",
        "print(text.upper())    # Output: PYTHON PROGRAMMING\n",
        "print(text.lower())    # Output: python programming\n",
        "print(text.title())    # Output: Python Programming\n",
        "print(text.capitalize()) # Output: Python programming\n",
        "print(text.swapcase()) # Output: PYTHON PROGRAMMING\n",
        "\n",
        "print(text.count(\"p\"))   # Output: 2 (Counts occurrences)\n",
        "print(text.startswith(\"py\")) # Output: True\n",
        "print(text.endswith(\"ing\"))  # Output: True\n",
        "\n",
        "print(text.replace(\"python\", \"Java\")) # Output: Java programming\n"
      ],
      "metadata": {
        "colab": {
          "base_uri": "https://localhost:8080/"
        },
        "id": "_uEOSOZh_YB2",
        "outputId": "d7e1addf-e6d8-4a76-d795-70f79cefb45c"
      },
      "execution_count": null,
      "outputs": [
        {
          "output_type": "stream",
          "name": "stdout",
          "text": [
            "PYTHON PROGRAMMING\n",
            "python programming\n",
            "Python Programming\n",
            "Python programming\n",
            "PYTHON PROGRAMMING\n",
            "2\n",
            "True\n",
            "True\n",
            "Java programming\n"
          ]
        }
      ]
    },
    {
      "cell_type": "markdown",
      "source": [
        "**5.Removing Spaces 🧹**\n",
        "\n",
        "Sometimes, we need to clean text by removing unnecessary spaces."
      ],
      "metadata": {
        "id": "Sb9MhC3DASlr"
      }
    },
    {
      "cell_type": "code",
      "source": [
        "text = \"  Harpal Singh  \"\n",
        "\n",
        "print(text.strip())   # Output: \"Harpal Singh\" (Removes spaces from both sides)\n",
        "print(text.lstrip())  # Output: \"Harpal Singh    \" (Removes left spaces)\n",
        "print(text.rstrip())  # Output: \"  Harpal Singh\" (Removes right spaces)\n"
      ],
      "metadata": {
        "colab": {
          "base_uri": "https://localhost:8080/"
        },
        "id": "rIvY2Ssi_6SZ",
        "outputId": "2861f76e-bf58-428a-da1c-ecd5782e476d"
      },
      "execution_count": null,
      "outputs": [
        {
          "output_type": "stream",
          "name": "stdout",
          "text": [
            "Harpal Singh\n",
            "Harpal Singh  \n",
            "  Harpal Singh\n"
          ]
        }
      ]
    },
    {
      "cell_type": "markdown",
      "source": [
        "**6.Finding Substrings 🔍**\n",
        "\n",
        "Checking if a string contains a word."
      ],
      "metadata": {
        "id": "7G-TYlLhArxD"
      }
    },
    {
      "cell_type": "code",
      "source": [
        "text = \"My India is great\"\n",
        "\n",
        "print(text.find(\"great\"))\n",
        "print(text.index(\"India\"))\n",
        "print(\"State\" in text)\n"
      ],
      "metadata": {
        "colab": {
          "base_uri": "https://localhost:8080/"
        },
        "id": "ggtanWwRAdfm",
        "outputId": "ee443186-840c-4b07-b181-05d0f3a5d2cc"
      },
      "execution_count": null,
      "outputs": [
        {
          "output_type": "stream",
          "name": "stdout",
          "text": [
            "12\n",
            "3\n",
            "False\n"
          ]
        }
      ]
    },
    {
      "cell_type": "markdown",
      "source": [
        "**7.Splitting & Joining Strings 🔗**\n",
        "\n",
        "Breaking a string into a list and joining lists into strings."
      ],
      "metadata": {
        "id": "GbPE5yE-B76p"
      }
    },
    {
      "cell_type": "code",
      "source": [
        "text = \"Python,Java,C++,JavaScript\"\n",
        "print(text) #in string\n",
        "words = text.split(\",\")   # Splitting by comma\n",
        "print(words)  # Output: ['Python', 'Java', 'C++', 'JavaScript']\n",
        "\n",
        "sentence = \" \".join(words)  # Joining list into a string\n",
        "print(sentence)  # Output: Python Java C++ JavaScript\n"
      ],
      "metadata": {
        "colab": {
          "base_uri": "https://localhost:8080/"
        },
        "id": "gLRxupgQA1RB",
        "outputId": "faf50a1b-b84d-4d08-d745-47578bf25549"
      },
      "execution_count": null,
      "outputs": [
        {
          "output_type": "stream",
          "name": "stdout",
          "text": [
            "Python,Java,C++,JavaScript\n",
            "['Python', 'Java', 'C++', 'JavaScript']\n",
            "Python Java C++ JavaScript\n"
          ]
        }
      ]
    },
    {
      "cell_type": "markdown",
      "source": [
        "**8.String Formatting 🎨**\n",
        "\n",
        "Dynamic string formatting using .format(), f-strings, and %.\n",
        "\n",
        "* f-strings are the fastest and most recommended."
      ],
      "metadata": {
        "id": "DxCKW4iNCoY0"
      }
    },
    {
      "cell_type": "code",
      "source": [
        "#Method 1: .format() (Old Way)\n",
        "name = \"Harpal\"\n",
        "age = 30\n",
        "print(\"My name is {} and I am {} years old.\".format(name, age))\n"
      ],
      "metadata": {
        "colab": {
          "base_uri": "https://localhost:8080/"
        },
        "id": "0WVAYlE_CCo8",
        "outputId": "2a69477d-e031-45d3-f239-5873afcfae05"
      },
      "execution_count": null,
      "outputs": [
        {
          "output_type": "stream",
          "name": "stdout",
          "text": [
            "My name is Harpal and I am 30 years old.\n"
          ]
        }
      ]
    },
    {
      "cell_type": "code",
      "source": [
        "#Method 2: f-strings (Modern Python 3.6+)\n",
        "print(f\"My name is {name} and I am {age} years old.\")\n"
      ],
      "metadata": {
        "colab": {
          "base_uri": "https://localhost:8080/"
        },
        "id": "0X8EAgyWCzjj",
        "outputId": "140624db-2067-456e-9973-eba8480efa79"
      },
      "execution_count": null,
      "outputs": [
        {
          "output_type": "stream",
          "name": "stdout",
          "text": [
            "My name is Harpal and I am 30 years old.\n"
          ]
        }
      ]
    },
    {
      "cell_type": "code",
      "source": [
        "#Method 3: % Formatting (Oldest Method)\n",
        "print(\"My name is %s and I am %d years old.\" % (name, age))\n"
      ],
      "metadata": {
        "colab": {
          "base_uri": "https://localhost:8080/"
        },
        "id": "8yaWW4A1C550",
        "outputId": "f4e0d328-61e4-45f9-e917-517db00b416c"
      },
      "execution_count": null,
      "outputs": [
        {
          "output_type": "stream",
          "name": "stdout",
          "text": [
            "My name is Harpal and I am 30 years old.\n"
          ]
        }
      ]
    },
    {
      "cell_type": "markdown",
      "source": [
        "**9.Checking if a String is Numeric 🔢**\n",
        "\n",
        "Used in validation checks.\n",
        "\n",
        "* Used in user input validation and data processing\n"
      ],
      "metadata": {
        "id": "5If7zTQ1DOfE"
      }
    },
    {
      "cell_type": "code",
      "source": [
        "text1 = \"12345\"\n",
        "text2 = \"Python123\"\n",
        "\n",
        "print(text1.isdigit())  # Output: True\n",
        "print(text2.isdigit())  # Output: False\n"
      ],
      "metadata": {
        "colab": {
          "base_uri": "https://localhost:8080/"
        },
        "id": "NrAftvxeC9m4",
        "outputId": "594c4e90-3404-41e4-c213-5a7eb002dd0d"
      },
      "execution_count": null,
      "outputs": [
        {
          "output_type": "stream",
          "name": "stdout",
          "text": [
            "True\n",
            "False\n"
          ]
        }
      ]
    },
    {
      "cell_type": "markdown",
      "source": [
        "**10.Reversing a String (Trick) 🔄**\n",
        "\n",
        "Quick trick using slicing."
      ],
      "metadata": {
        "id": "7A1q7NXtDrHw"
      }
    },
    {
      "cell_type": "code",
      "source": [
        "name = \"Priyanka\"\n",
        "reversed_text = name[::-1]\n",
        "\n",
        "print(reversed_text)  # Output: nohtyP\n"
      ],
      "metadata": {
        "colab": {
          "base_uri": "https://localhost:8080/"
        },
        "id": "xRMHGl-PDZ3y",
        "outputId": "03b85634-1f2d-4384-ad8a-bc205a8a7530"
      },
      "execution_count": null,
      "outputs": [
        {
          "output_type": "stream",
          "name": "stdout",
          "text": [
            "aknayirP\n"
          ]
        }
      ]
    },
    {
      "cell_type": "code",
      "source": [
        "#other way\n",
        "name = \"priyanka\"\n",
        "name[::-1]\n",
        "#print(name[::-1])"
      ],
      "metadata": {
        "colab": {
          "base_uri": "https://localhost:8080/",
          "height": 36
        },
        "id": "VCSwSwkpD1Sk",
        "outputId": "f867a35d-39d7-4d49-d97e-84cb5a5e8530"
      },
      "execution_count": null,
      "outputs": [
        {
          "output_type": "execute_result",
          "data": {
            "text/plain": [
              "'aknayirp'"
            ],
            "application/vnd.google.colaboratory.intrinsic+json": {
              "type": "string"
            }
          },
          "metadata": {},
          "execution_count": 51
        }
      ]
    },
    {
      "cell_type": "code",
      "source": [
        "#other ways\n",
        "name = \"priyanka\"\n",
        "#name[::-1]\n",
        "print(name[::-1])"
      ],
      "metadata": {
        "colab": {
          "base_uri": "https://localhost:8080/"
        },
        "id": "PqdaVWOWD7wK",
        "outputId": "bf44d11d-799f-49d1-9de1-0aef8b4b6cd5"
      },
      "execution_count": null,
      "outputs": [
        {
          "output_type": "stream",
          "name": "stdout",
          "text": [
            "aknayirp\n"
          ]
        }
      ]
    },
    {
      "cell_type": "markdown",
      "source": [
        "**11.Converting a String to a List 📜 → 🔢**\n",
        "\n",
        "Used in text processing and NLP."
      ],
      "metadata": {
        "id": "-NPHuezYEPKm"
      }
    },
    {
      "cell_type": "code",
      "source": [
        "name = \"Harpal\"\n",
        "name_list = list(name)\n",
        "print(name_list)  # Output: ['H', 'a', 'r', 'p', 'a', 'l']"
      ],
      "metadata": {
        "colab": {
          "base_uri": "https://localhost:8080/"
        },
        "id": "aqdqzdYpEKyc",
        "outputId": "e1f3ffc0-0329-42dc-fcab-80117b219de3"
      },
      "execution_count": null,
      "outputs": [
        {
          "output_type": "stream",
          "name": "stdout",
          "text": [
            "['H', 'a', 'r', 'p', 'a', 'l']\n"
          ]
        }
      ]
    },
    {
      "cell_type": "markdown",
      "source": [
        "**12.Extracting Numbers from a String 🔢**\n",
        "\n",
        "* Useful in data extraction.\n",
        "\n",
        "* Used in web scraping and data extraction."
      ],
      "metadata": {
        "id": "gJXb8PQJEor9"
      }
    },
    {
      "cell_type": "markdown",
      "source": [
        "* The import re statement in Python is used to import the re module, which\n",
        "* provides support for regular expressions (regex). Regular expressions allow\n",
        "* you to search, match, and manipulate strings efficiently."
      ],
      "metadata": {
        "id": "3AzX5UhPF5FZ"
      }
    },
    {
      "cell_type": "code",
      "source": [
        "import re\n",
        "\n",
        "text = \"Order 1234 confirmed on 2024-02-17\"\n",
        "numbers = re.findall(r'\\d+', text)\n",
        "\n",
        "print(numbers)  # Output: ['1234', '2024', '02', '17']\n"
      ],
      "metadata": {
        "colab": {
          "base_uri": "https://localhost:8080/"
        },
        "id": "WgapCdeFEeJH",
        "outputId": "673da154-41f2-46b3-b0eb-d8bd3ba47f84"
      },
      "execution_count": null,
      "outputs": [
        {
          "output_type": "stream",
          "name": "stdout",
          "text": [
            "['1234', '2024', '02', '17']\n"
          ]
        }
      ]
    },
    {
      "cell_type": "code",
      "source": [
        "# Task: Extract all email addresses from a given text.\n",
        "import re\n",
        "\n",
        "text = \"Contact us at support@example.com or sales@company.com\"\n",
        "pattern = r\"\\S+@\\S+\\.\\S+\"  # Email pattern\n",
        "\n",
        "emails = re.findall(pattern, text)\n",
        "print(emails)  # Expected Output: ['support@example.com', 'sales@company.com']\n"
      ],
      "metadata": {
        "colab": {
          "base_uri": "https://localhost:8080/"
        },
        "id": "vNn-W3CHFidc",
        "outputId": "5f92d102-7b26-4b46-de16-de54b63ff194"
      },
      "execution_count": null,
      "outputs": [
        {
          "output_type": "stream",
          "name": "stdout",
          "text": [
            "['support@example.com', 'sales@company.com']\n"
          ]
        }
      ]
    },
    {
      "cell_type": "code",
      "source": [
        "# Task: Extract all email addresses from a given text.\n",
        "import re\n",
        "\n",
        "text = \"my email is 007harpal@gmail.com .my university email is support@university.com or university@company.com\"\n",
        "pattern = r\"\\S+@\\S+\\.\\S+\"  # Email pattern\n",
        "\n",
        "emails = re.findall(pattern, text)\n",
        "print(emails)  # Expected Output: ['support@example.com', 'sales@company.com']\n"
      ],
      "metadata": {
        "colab": {
          "base_uri": "https://localhost:8080/"
        },
        "id": "V-Ygd6qtGajk",
        "outputId": "29ac7a26-eb02-4302-abd2-651dd7f1a79e"
      },
      "execution_count": null,
      "outputs": [
        {
          "output_type": "stream",
          "name": "stdout",
          "text": [
            "['007harpal@gmail.com', 'support@university.com', 'university@company.com']\n"
          ]
        }
      ]
    },
    {
      "cell_type": "markdown",
      "source": [
        "# **Projects 1**\n",
        "\n",
        "* Input a sentence from the user.\n",
        "* Count the number of words in the sentence\n",
        "* Make sure it doesn't count space\n",
        "\n"
      ],
      "metadata": {
        "id": "ZjK0UM-mJHrE"
      }
    },
    {
      "cell_type": "code",
      "source": [
        "story = input(\"Enter a sentence: \").strip()\n",
        "story_list = story.split(' ')\n",
        "result = len(story_list)\n",
        "print(f'Your sentence has {result} words')"
      ],
      "metadata": {
        "colab": {
          "base_uri": "https://localhost:8080/"
        },
        "id": "iDB_kjyjJm3q",
        "outputId": "7a498822-64d0-4d95-87aa-28fe35a7fa1d"
      },
      "execution_count": null,
      "outputs": [
        {
          "output_type": "stream",
          "name": "stdout",
          "text": [
            "Enter a sentence: My name is harpal singh armo\n",
            "Your sentence has 6 words\n"
          ]
        }
      ]
    },
    {
      "cell_type": "markdown",
      "source": [
        "# **Project 2: Email id Generate**\n",
        "\n",
        "* Take the user's first and last name as input.\n",
        "* Generate a gmail_id for the user by concatenating the first three letters of * the first name and the last three letters of the last name with domain @gmail.com Ensure the username is lowercase and has no spaces."
      ],
      "metadata": {
        "id": "1I1eFW5dJlbG"
      }
    },
    {
      "cell_type": "code",
      "source": [
        "print(\"Welcome to email id generators\")\n",
        "f_name = input(\"Enter your first name: \").strip().lower()\n",
        "fi_name = f_name[0:4]\n",
        "l_name = input(\"Enter your last name: \").strip().lower()\n",
        "li_name = l_name[-3:]\n",
        "domain = \"@gmail.com\"\n",
        "print(f'Your email id is: {fi_name}{li_name}{domain}')\n"
      ],
      "metadata": {
        "colab": {
          "base_uri": "https://localhost:8080/"
        },
        "id": "B07tn2dvHZYL",
        "outputId": "27ac2c22-1238-49de-b080-e885dfe667ea"
      },
      "execution_count": null,
      "outputs": [
        {
          "output_type": "stream",
          "name": "stdout",
          "text": [
            "Welcome to email id generators\n",
            "Enter your first name: Harpal\n",
            "Enter your last name: Singh\n",
            "Your email id is: harpngh@gmail.com\n"
          ]
        }
      ]
    },
    {
      "cell_type": "code",
      "source": [],
      "metadata": {
        "id": "6FznQcWzLhhI"
      },
      "execution_count": null,
      "outputs": []
    }
  ]
}